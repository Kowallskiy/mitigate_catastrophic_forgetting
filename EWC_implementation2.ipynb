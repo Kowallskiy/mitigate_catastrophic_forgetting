{
  "nbformat": 4,
  "nbformat_minor": 0,
  "metadata": {
    "colab": {
      "provenance": [],
      "gpuType": "T4"
    },
    "kernelspec": {
      "name": "python3",
      "display_name": "Python 3"
    },
    "language_info": {
      "name": "python"
    },
    "accelerator": "GPU"
  },
  "cells": [
    {
      "cell_type": "code",
      "execution_count": 1,
      "metadata": {
        "id": "b2NSA-U_0DhS"
      },
      "outputs": [],
      "source": [
        "import torch\n",
        "import torchvision\n",
        "from torch import nn\n",
        "from torch.utils.data import DataLoader\n",
        "from torchvision import datasets\n",
        "from torchvision.transforms import ToTensor, Normalize"
      ]
    },
    {
      "cell_type": "code",
      "source": [
        "class FashionMNISTtask1(datasets.FashionMNIST):\n",
        "  def __init__(self, root, train=True, transform=None, target_transform=None, download=False):\n",
        "    super(FashionMNISTtask1, self).__init__(root, train=train, transform=transform, target_transform=target_transform,download=download)\n",
        "    self.classes = self.classes[:6]\n",
        "\n",
        "  def __getitem__(self, index):\n",
        "    img, target = super(FashionMNISTtask1, self).__getitem__(index)\n",
        "    if target < 6:\n",
        "        return img, target\n",
        "    else:\n",
        "        return img, -1"
      ],
      "metadata": {
        "id": "qSfxWcOn18kp"
      },
      "execution_count": 2,
      "outputs": []
    },
    {
      "cell_type": "code",
      "source": [
        "class FashionMNISTtask2(datasets.FashionMNIST):\n",
        "    def __init__(self, root, train=True, transform=None, target_transform=None, download=False):\n",
        "        super(FashionMNISTtask2, self).__init__(root, train=train, transform=transform, target_transform=target_transform,download=download)\n",
        "        self.classes = self.classes[6:]\n",
        "\n",
        "    def __getitem__(self, index):\n",
        "        img, target = super(FashionMNISTtask2, self).__getitem__(index)\n",
        "        if target >= 6:\n",
        "            return img, target\n",
        "        else:\n",
        "            return img, -1"
      ],
      "metadata": {
        "id": "Nl-_I6Ry2BMR"
      },
      "execution_count": 3,
      "outputs": []
    },
    {
      "cell_type": "code",
      "source": [
        "transform = torchvision.transforms.Compose([ToTensor(), Normalize((0.5), (0.5))])\n",
        "\n",
        "train_dataset_1 = FashionMNISTtask1(root='./data1', train=True, transform=transform, download=True)\n",
        "test_dataset_1 = FashionMNISTtask1(root='./data1', train=False, transform=transform, download=True)"
      ],
      "metadata": {
        "colab": {
          "base_uri": "https://localhost:8080/"
        },
        "id": "JvtnT5b32GBQ",
        "outputId": "77d9d843-7c5e-43c7-b1d2-358fdb29b0e6"
      },
      "execution_count": 4,
      "outputs": [
        {
          "output_type": "stream",
          "name": "stdout",
          "text": [
            "Downloading http://fashion-mnist.s3-website.eu-central-1.amazonaws.com/train-images-idx3-ubyte.gz\n",
            "Downloading http://fashion-mnist.s3-website.eu-central-1.amazonaws.com/train-images-idx3-ubyte.gz to ./data1/FashionMNISTtask1/raw/train-images-idx3-ubyte.gz\n"
          ]
        },
        {
          "output_type": "stream",
          "name": "stderr",
          "text": [
            "100%|██████████| 26421880/26421880 [00:02<00:00, 10486401.96it/s]\n"
          ]
        },
        {
          "output_type": "stream",
          "name": "stdout",
          "text": [
            "Extracting ./data1/FashionMNISTtask1/raw/train-images-idx3-ubyte.gz to ./data1/FashionMNISTtask1/raw\n",
            "\n",
            "Downloading http://fashion-mnist.s3-website.eu-central-1.amazonaws.com/train-labels-idx1-ubyte.gz\n",
            "Downloading http://fashion-mnist.s3-website.eu-central-1.amazonaws.com/train-labels-idx1-ubyte.gz to ./data1/FashionMNISTtask1/raw/train-labels-idx1-ubyte.gz\n"
          ]
        },
        {
          "output_type": "stream",
          "name": "stderr",
          "text": [
            "100%|██████████| 29515/29515 [00:00<00:00, 172930.49it/s]\n"
          ]
        },
        {
          "output_type": "stream",
          "name": "stdout",
          "text": [
            "Extracting ./data1/FashionMNISTtask1/raw/train-labels-idx1-ubyte.gz to ./data1/FashionMNISTtask1/raw\n",
            "\n",
            "Downloading http://fashion-mnist.s3-website.eu-central-1.amazonaws.com/t10k-images-idx3-ubyte.gz\n",
            "Downloading http://fashion-mnist.s3-website.eu-central-1.amazonaws.com/t10k-images-idx3-ubyte.gz to ./data1/FashionMNISTtask1/raw/t10k-images-idx3-ubyte.gz\n"
          ]
        },
        {
          "output_type": "stream",
          "name": "stderr",
          "text": [
            "100%|██████████| 4422102/4422102 [00:01<00:00, 3182112.04it/s]\n"
          ]
        },
        {
          "output_type": "stream",
          "name": "stdout",
          "text": [
            "Extracting ./data1/FashionMNISTtask1/raw/t10k-images-idx3-ubyte.gz to ./data1/FashionMNISTtask1/raw\n",
            "\n",
            "Downloading http://fashion-mnist.s3-website.eu-central-1.amazonaws.com/t10k-labels-idx1-ubyte.gz\n",
            "Downloading http://fashion-mnist.s3-website.eu-central-1.amazonaws.com/t10k-labels-idx1-ubyte.gz to ./data1/FashionMNISTtask1/raw/t10k-labels-idx1-ubyte.gz\n"
          ]
        },
        {
          "output_type": "stream",
          "name": "stderr",
          "text": [
            "100%|██████████| 5148/5148 [00:00<00:00, 6861225.61it/s]"
          ]
        },
        {
          "output_type": "stream",
          "name": "stdout",
          "text": [
            "Extracting ./data1/FashionMNISTtask1/raw/t10k-labels-idx1-ubyte.gz to ./data1/FashionMNISTtask1/raw\n",
            "\n"
          ]
        },
        {
          "output_type": "stream",
          "name": "stderr",
          "text": [
            "\n"
          ]
        }
      ]
    },
    {
      "cell_type": "code",
      "source": [
        "train_dataset_2 = FashionMNISTtask2(root='./data2', train=True, transform=transform, download=True)\n",
        "test_dataset_2 = FashionMNISTtask2(root='./data2', train=False, transform=transform, download=True)\n",
        "test_dataset_3 = datasets.FashionMNIST(\n",
        "    root='data3',\n",
        "    train=False,\n",
        "    download=True,\n",
        "    transform=transform\n",
        ")"
      ],
      "metadata": {
        "colab": {
          "base_uri": "https://localhost:8080/"
        },
        "id": "yr4F5agU2Gio",
        "outputId": "35a9630b-0899-4830-d401-80f5b018f7e5"
      },
      "execution_count": 5,
      "outputs": [
        {
          "output_type": "stream",
          "name": "stdout",
          "text": [
            "Downloading http://fashion-mnist.s3-website.eu-central-1.amazonaws.com/train-images-idx3-ubyte.gz\n",
            "Downloading http://fashion-mnist.s3-website.eu-central-1.amazonaws.com/train-images-idx3-ubyte.gz to ./data2/FashionMNISTtask2/raw/train-images-idx3-ubyte.gz\n"
          ]
        },
        {
          "output_type": "stream",
          "name": "stderr",
          "text": [
            "100%|██████████| 26421880/26421880 [00:02<00:00, 9715041.91it/s] \n"
          ]
        },
        {
          "output_type": "stream",
          "name": "stdout",
          "text": [
            "Extracting ./data2/FashionMNISTtask2/raw/train-images-idx3-ubyte.gz to ./data2/FashionMNISTtask2/raw\n",
            "\n",
            "Downloading http://fashion-mnist.s3-website.eu-central-1.amazonaws.com/train-labels-idx1-ubyte.gz\n",
            "Downloading http://fashion-mnist.s3-website.eu-central-1.amazonaws.com/train-labels-idx1-ubyte.gz to ./data2/FashionMNISTtask2/raw/train-labels-idx1-ubyte.gz\n"
          ]
        },
        {
          "output_type": "stream",
          "name": "stderr",
          "text": [
            "100%|██████████| 29515/29515 [00:00<00:00, 178104.19it/s]\n"
          ]
        },
        {
          "output_type": "stream",
          "name": "stdout",
          "text": [
            "Extracting ./data2/FashionMNISTtask2/raw/train-labels-idx1-ubyte.gz to ./data2/FashionMNISTtask2/raw\n",
            "\n",
            "Downloading http://fashion-mnist.s3-website.eu-central-1.amazonaws.com/t10k-images-idx3-ubyte.gz\n",
            "Downloading http://fashion-mnist.s3-website.eu-central-1.amazonaws.com/t10k-images-idx3-ubyte.gz to ./data2/FashionMNISTtask2/raw/t10k-images-idx3-ubyte.gz\n"
          ]
        },
        {
          "output_type": "stream",
          "name": "stderr",
          "text": [
            "100%|██████████| 4422102/4422102 [00:01<00:00, 3153656.35it/s]\n"
          ]
        },
        {
          "output_type": "stream",
          "name": "stdout",
          "text": [
            "Extracting ./data2/FashionMNISTtask2/raw/t10k-images-idx3-ubyte.gz to ./data2/FashionMNISTtask2/raw\n",
            "\n",
            "Downloading http://fashion-mnist.s3-website.eu-central-1.amazonaws.com/t10k-labels-idx1-ubyte.gz\n",
            "Downloading http://fashion-mnist.s3-website.eu-central-1.amazonaws.com/t10k-labels-idx1-ubyte.gz to ./data2/FashionMNISTtask2/raw/t10k-labels-idx1-ubyte.gz\n"
          ]
        },
        {
          "output_type": "stream",
          "name": "stderr",
          "text": [
            "100%|██████████| 5148/5148 [00:00<00:00, 20781787.29it/s]\n"
          ]
        },
        {
          "output_type": "stream",
          "name": "stdout",
          "text": [
            "Extracting ./data2/FashionMNISTtask2/raw/t10k-labels-idx1-ubyte.gz to ./data2/FashionMNISTtask2/raw\n",
            "\n",
            "Downloading http://fashion-mnist.s3-website.eu-central-1.amazonaws.com/train-images-idx3-ubyte.gz\n",
            "Downloading http://fashion-mnist.s3-website.eu-central-1.amazonaws.com/train-images-idx3-ubyte.gz to data3/FashionMNIST/raw/train-images-idx3-ubyte.gz\n"
          ]
        },
        {
          "output_type": "stream",
          "name": "stderr",
          "text": [
            "100%|██████████| 26421880/26421880 [00:02<00:00, 10869285.39it/s]\n"
          ]
        },
        {
          "output_type": "stream",
          "name": "stdout",
          "text": [
            "Extracting data3/FashionMNIST/raw/train-images-idx3-ubyte.gz to data3/FashionMNIST/raw\n",
            "\n",
            "Downloading http://fashion-mnist.s3-website.eu-central-1.amazonaws.com/train-labels-idx1-ubyte.gz\n",
            "Downloading http://fashion-mnist.s3-website.eu-central-1.amazonaws.com/train-labels-idx1-ubyte.gz to data3/FashionMNIST/raw/train-labels-idx1-ubyte.gz\n"
          ]
        },
        {
          "output_type": "stream",
          "name": "stderr",
          "text": [
            "100%|██████████| 29515/29515 [00:00<00:00, 177107.40it/s]\n"
          ]
        },
        {
          "output_type": "stream",
          "name": "stdout",
          "text": [
            "Extracting data3/FashionMNIST/raw/train-labels-idx1-ubyte.gz to data3/FashionMNIST/raw\n",
            "\n",
            "Downloading http://fashion-mnist.s3-website.eu-central-1.amazonaws.com/t10k-images-idx3-ubyte.gz\n",
            "Downloading http://fashion-mnist.s3-website.eu-central-1.amazonaws.com/t10k-images-idx3-ubyte.gz to data3/FashionMNIST/raw/t10k-images-idx3-ubyte.gz\n"
          ]
        },
        {
          "output_type": "stream",
          "name": "stderr",
          "text": [
            "100%|██████████| 4422102/4422102 [00:01<00:00, 3167696.13it/s]\n"
          ]
        },
        {
          "output_type": "stream",
          "name": "stdout",
          "text": [
            "Extracting data3/FashionMNIST/raw/t10k-images-idx3-ubyte.gz to data3/FashionMNIST/raw\n",
            "\n",
            "Downloading http://fashion-mnist.s3-website.eu-central-1.amazonaws.com/t10k-labels-idx1-ubyte.gz\n",
            "Downloading http://fashion-mnist.s3-website.eu-central-1.amazonaws.com/t10k-labels-idx1-ubyte.gz to data3/FashionMNIST/raw/t10k-labels-idx1-ubyte.gz\n"
          ]
        },
        {
          "output_type": "stream",
          "name": "stderr",
          "text": [
            "100%|██████████| 5148/5148 [00:00<00:00, 19665097.44it/s]"
          ]
        },
        {
          "output_type": "stream",
          "name": "stdout",
          "text": [
            "Extracting data3/FashionMNIST/raw/t10k-labels-idx1-ubyte.gz to data3/FashionMNIST/raw\n",
            "\n"
          ]
        },
        {
          "output_type": "stream",
          "name": "stderr",
          "text": [
            "\n"
          ]
        }
      ]
    },
    {
      "cell_type": "code",
      "source": [
        "train_dataset_filtered_old = [data for data in train_dataset_1 if data[1] != -1]\n",
        "test_dataset_filtered_old = [data for data in test_dataset_1 if data[1] != -1]\n",
        "\n",
        "train_dataset_filtered_new = [data for data in train_dataset_2 if data[1] != -1]\n",
        "test_dataset_filtered_new = [data for data in test_dataset_2 if data[1] != -1]"
      ],
      "metadata": {
        "id": "N8HwMD0z2IZc"
      },
      "execution_count": 6,
      "outputs": []
    },
    {
      "cell_type": "code",
      "source": [
        "train_dataloader_old = DataLoader(train_dataset_filtered_old, batch_size=64, shuffle=True)\n",
        "test_dataloader_old = DataLoader(test_dataset_filtered_old, batch_size=256, shuffle=False)\n",
        "\n",
        "for X, y in train_dataloader_old:\n",
        "  print(f\"Shape of X [N, C, H, W]: {X.shape}\")\n",
        "  print(f\"SHape of y: {y.shape}, dtype: {y.dtype}\")\n",
        "  break"
      ],
      "metadata": {
        "colab": {
          "base_uri": "https://localhost:8080/"
        },
        "id": "1_J6o_FR2Mh8",
        "outputId": "fddac889-3dec-4edf-991f-db8576eb65ab"
      },
      "execution_count": 7,
      "outputs": [
        {
          "output_type": "stream",
          "name": "stdout",
          "text": [
            "Shape of X [N, C, H, W]: torch.Size([64, 1, 28, 28])\n",
            "SHape of y: torch.Size([64]), dtype: torch.int64\n"
          ]
        }
      ]
    },
    {
      "cell_type": "code",
      "source": [
        "train_dataloader_new = DataLoader(train_dataset_filtered_new, batch_size=64, shuffle=True)\n",
        "test_dataloader_new = DataLoader(test_dataset_filtered_new, batch_size=256, shuffle=False)"
      ],
      "metadata": {
        "id": "OFGpnxZq2NYt"
      },
      "execution_count": 8,
      "outputs": []
    },
    {
      "cell_type": "code",
      "source": [
        "eval_dataloader = DataLoader(test_dataset_3, batch_size=256, shuffle=True)"
      ],
      "metadata": {
        "id": "dpjhj4M82QGR"
      },
      "execution_count": 9,
      "outputs": []
    },
    {
      "cell_type": "code",
      "source": [
        "device = ('cuda' if torch.cuda.is_available() else 'cpu')\n",
        "print(f\"Using {device} device\")"
      ],
      "metadata": {
        "colab": {
          "base_uri": "https://localhost:8080/"
        },
        "id": "F7raJ2RC2Toq",
        "outputId": "35241721-5232-42dc-936f-a00ffaeede61"
      },
      "execution_count": 21,
      "outputs": [
        {
          "output_type": "stream",
          "name": "stdout",
          "text": [
            "Using cuda device\n"
          ]
        }
      ]
    },
    {
      "cell_type": "code",
      "source": [
        "class NeuralNetwork(nn.Module):\n",
        "    def __init__(self, num_classes=10, hidden_size=512):\n",
        "        super(NeuralNetwork, self).__init__()\n",
        "        self.flatten = nn.Flatten()\n",
        "\n",
        "        self.fc1 = nn.Linear(28*28, hidden_size)\n",
        "        self.relu1 = nn.ReLU()\n",
        "        self.fc2 = nn.Linear(hidden_size, hidden_size)\n",
        "        self.relu2 = nn.ReLU()\n",
        "        self.classifier = nn.Linear(hidden_size, num_classes)\n",
        "\n",
        "    #     self._initialize_weights()\n",
        "\n",
        "    # def _initialize_weights(self):\n",
        "    #     for m in self.modules():\n",
        "    #         if isinstance(m, nn.Linear):\n",
        "    #             nn.init.kaiming_normal_(m.weight, nonlinearity='sigmoid')\n",
        "    #         elif isinstance(m, nn.Conv2d):\n",
        "    #             nn.init.kaiming_normal_(m.weight, nonlinearity='relu')\n",
        "\n",
        "    def forward(self, x):\n",
        "        x = self.flatten(x)\n",
        "        x = self.fc1(x)\n",
        "        x = self.relu1(x)\n",
        "        x = self.fc2(x)\n",
        "        x = self.relu2(x)\n",
        "        logits = self.classifier(x)\n",
        "\n",
        "        return logits"
      ],
      "metadata": {
        "id": "C5nQoXPk2Wbo"
      },
      "execution_count": 11,
      "outputs": []
    },
    {
      "cell_type": "code",
      "source": [
        "def train(dataloader, model, loss_fn, optimizer):\n",
        "  size = len(dataloader.dataset)\n",
        "  model.train()\n",
        "  for batch, (X, y) in enumerate(dataloader):\n",
        "    X, y = X.to(device), y.to(device)\n",
        "    pred = model(X)\n",
        "    loss = loss_fn(pred, y)\n",
        "\n",
        "    loss.backward()\n",
        "    optimizer.step()\n",
        "    optimizer.zero_grad()\n",
        "\n",
        "    if batch % 100 == 0:\n",
        "      loss, current = loss.item(), (batch+1) * len(X)\n",
        "      print(f\"Loss: {loss:>7f}, {current:>5d}/{size:>5d}\")"
      ],
      "metadata": {
        "id": "tyhb4Zo4230I"
      },
      "execution_count": 12,
      "outputs": []
    },
    {
      "cell_type": "code",
      "source": [
        "def test(dataloader, model, loss_fn):\n",
        "  size = len(dataloader.dataset)\n",
        "  num_batches = len(dataloader)\n",
        "  model.eval()\n",
        "\n",
        "  test_loss, correct = 0, 0\n",
        "  with torch.no_grad():\n",
        "    for X, y in dataloader:\n",
        "      X, y = X.to(device), y.to(device)\n",
        "      pred = model(X)\n",
        "      test_loss += loss_fn(pred, y).item()\n",
        "      correct += (pred.argmax(1) == y).type(torch.float).sum().item()\n",
        "  test_loss /= num_batches\n",
        "  correct /= size\n",
        "  print(f\"Test Error: \\n Accuracy: {(100*correct):>0.1f}, Avg Loss: {test_loss:>8f}\\n\")"
      ],
      "metadata": {
        "id": "hZThNdfT26Kg"
      },
      "execution_count": 13,
      "outputs": []
    },
    {
      "cell_type": "code",
      "source": [
        "pre_model = NeuralNetwork(num_classes=10, hidden_size=512).to(device)\n",
        "\n",
        "loss_fn = nn.CrossEntropyLoss()\n",
        "optimizer = torch.optim.SGD(pre_model.parameters(), lr=0.01, momentum=0.9, weight_decay=5e-4)"
      ],
      "metadata": {
        "id": "O8cy0wv-28X4"
      },
      "execution_count": 14,
      "outputs": []
    },
    {
      "cell_type": "code",
      "source": [
        "epochs = 10\n",
        "for t in range(epochs):\n",
        "  print(f\"Epoch {t+1}\\n---------------------------\")\n",
        "  train(train_dataloader_old, pre_model, loss_fn, optimizer)\n",
        "  test(test_dataloader_old, pre_model, loss_fn)\n",
        "print(\"Done!\")\n",
        "\n",
        "torch.save(pre_model.state_dict(), \"model_old.pth\")"
      ],
      "metadata": {
        "colab": {
          "base_uri": "https://localhost:8080/"
        },
        "id": "nO9q7xFU4UUI",
        "outputId": "cf4748da-25ee-4be5-bb63-0a2fd4401aa4"
      },
      "execution_count": 16,
      "outputs": [
        {
          "output_type": "stream",
          "name": "stdout",
          "text": [
            "Epoch 1\n",
            "---------------------------\n",
            "Loss: 2.283751,    64/36000\n",
            "Loss: 0.243989,  6464/36000\n",
            "Loss: 0.184512, 12864/36000\n",
            "Loss: 0.344231, 19264/36000\n",
            "Loss: 0.393142, 25664/36000\n",
            "Loss: 0.231987, 32064/36000\n",
            "Test Error: \n",
            " Accuracy: 89.7, Avg Loss: 0.282104\n",
            "\n",
            "Epoch 2\n",
            "---------------------------\n",
            "Loss: 0.229488,    64/36000\n",
            "Loss: 0.310935,  6464/36000\n",
            "Loss: 0.317108, 12864/36000\n",
            "Loss: 0.150361, 19264/36000\n",
            "Loss: 0.290324, 25664/36000\n",
            "Loss: 0.325517, 32064/36000\n",
            "Test Error: \n",
            " Accuracy: 90.0, Avg Loss: 0.268644\n",
            "\n",
            "Epoch 3\n",
            "---------------------------\n",
            "Loss: 0.183788,    64/36000\n",
            "Loss: 0.179374,  6464/36000\n",
            "Loss: 0.152611, 12864/36000\n",
            "Loss: 0.284833, 19264/36000\n",
            "Loss: 0.278665, 25664/36000\n",
            "Loss: 0.163754, 32064/36000\n",
            "Test Error: \n",
            " Accuracy: 89.4, Avg Loss: 0.280450\n",
            "\n",
            "Epoch 4\n",
            "---------------------------\n",
            "Loss: 0.199625,    64/36000\n",
            "Loss: 0.414821,  6464/36000\n",
            "Loss: 0.212038, 12864/36000\n",
            "Loss: 0.176117, 19264/36000\n",
            "Loss: 0.157161, 25664/36000\n",
            "Loss: 0.191457, 32064/36000\n",
            "Test Error: \n",
            " Accuracy: 89.4, Avg Loss: 0.280790\n",
            "\n",
            "Epoch 5\n",
            "---------------------------\n",
            "Loss: 0.163949,    64/36000\n",
            "Loss: 0.154408,  6464/36000\n",
            "Loss: 0.220741, 12864/36000\n",
            "Loss: 0.231425, 19264/36000\n",
            "Loss: 0.160484, 25664/36000\n",
            "Loss: 0.117498, 32064/36000\n",
            "Test Error: \n",
            " Accuracy: 91.0, Avg Loss: 0.239084\n",
            "\n",
            "Epoch 6\n",
            "---------------------------\n",
            "Loss: 0.183273,    64/36000\n",
            "Loss: 0.221390,  6464/36000\n",
            "Loss: 0.151938, 12864/36000\n",
            "Loss: 0.225811, 19264/36000\n",
            "Loss: 0.122544, 25664/36000\n",
            "Loss: 0.138066, 32064/36000\n",
            "Test Error: \n",
            " Accuracy: 91.5, Avg Loss: 0.233279\n",
            "\n",
            "Epoch 7\n",
            "---------------------------\n",
            "Loss: 0.170652,    64/36000\n",
            "Loss: 0.134381,  6464/36000\n",
            "Loss: 0.267482, 12864/36000\n",
            "Loss: 0.198584, 19264/36000\n",
            "Loss: 0.169296, 25664/36000\n",
            "Loss: 0.185124, 32064/36000\n",
            "Test Error: \n",
            " Accuracy: 91.3, Avg Loss: 0.237853\n",
            "\n",
            "Epoch 8\n",
            "---------------------------\n",
            "Loss: 0.100931,    64/36000\n",
            "Loss: 0.232760,  6464/36000\n",
            "Loss: 0.102114, 12864/36000\n",
            "Loss: 0.172531, 19264/36000\n",
            "Loss: 0.209436, 25664/36000\n",
            "Loss: 0.279946, 32064/36000\n",
            "Test Error: \n",
            " Accuracy: 91.8, Avg Loss: 0.225402\n",
            "\n",
            "Epoch 9\n",
            "---------------------------\n",
            "Loss: 0.186136,    64/36000\n",
            "Loss: 0.193341,  6464/36000\n",
            "Loss: 0.156370, 12864/36000\n",
            "Loss: 0.200877, 19264/36000\n",
            "Loss: 0.390700, 25664/36000\n",
            "Loss: 0.133479, 32064/36000\n",
            "Test Error: \n",
            " Accuracy: 90.7, Avg Loss: 0.244486\n",
            "\n",
            "Epoch 10\n",
            "---------------------------\n",
            "Loss: 0.138901,    64/36000\n",
            "Loss: 0.141744,  6464/36000\n",
            "Loss: 0.094210, 12864/36000\n",
            "Loss: 0.109100, 19264/36000\n",
            "Loss: 0.208013, 25664/36000\n",
            "Loss: 0.204365, 32064/36000\n",
            "Test Error: \n",
            " Accuracy: 91.6, Avg Loss: 0.223450\n",
            "\n",
            "Done!\n"
          ]
        }
      ]
    },
    {
      "cell_type": "markdown",
      "source": [
        "________"
      ],
      "metadata": {
        "id": "U2xq-SiG4Uvg"
      }
    },
    {
      "cell_type": "markdown",
      "source": [
        "# I must try replacing the last layer (classifier) with a new one with 10 classes. Maybe that will work"
      ],
      "metadata": {
        "id": "YBsw6elnHX4U"
      }
    },
    {
      "cell_type": "code",
      "source": [
        "model = NeuralNetwork()\n",
        "model.load_state_dict(torch.load(\"model_old.pth\"))"
      ],
      "metadata": {
        "colab": {
          "base_uri": "https://localhost:8080/"
        },
        "id": "GPZXh0Ga4rZy",
        "outputId": "2069553a-d240-4414-dc92-6e4926a73ef3"
      },
      "execution_count": 22,
      "outputs": [
        {
          "output_type": "execute_result",
          "data": {
            "text/plain": [
              "<All keys matched successfully>"
            ]
          },
          "metadata": {},
          "execution_count": 22
        }
      ]
    },
    {
      "cell_type": "code",
      "source": [
        "print(list(model.named_parameters()))"
      ],
      "metadata": {
        "id": "glIMx-JE5SWA"
      },
      "execution_count": null,
      "outputs": []
    },
    {
      "cell_type": "code",
      "source": [
        "from copy import deepcopy\n",
        "\n",
        "def get_fisher_diag(model, dataset, params, empirical=True):\n",
        "  fisher = {}\n",
        "  params_dict = dict(params)\n",
        "  for n, p in deepcopy(params_dict).items():\n",
        "    p.data.zero_()\n",
        "    fisher[n] = p.data.clone().detach().requires_grad_()\n",
        "\n",
        "  model.eval()\n",
        "\n",
        "  for input, gt_label in dataset:\n",
        "    input, gt_label = input.to(device), gt_label.to(device)\n",
        "\n",
        "    model.zero_grad()\n",
        "    output = model(input)\n",
        "    # print(output.shape)\n",
        "    # output = output.view(1, -1)\n",
        "\n",
        "    if empirical:\n",
        "      label = gt_label\n",
        "    else:\n",
        "      label = output.max(1)[1].view(-1)\n",
        "    # label = gt_label.repeat(output.size(0))\n",
        "    # print(label.shape)\n",
        "    negloglikelihood = torch.nn.functional.nll_loss(torch.nn.functional.log_softmax(output, dim=1), label)\n",
        "    negloglikelihood.backward()\n",
        "\n",
        "    for n, p in model.named_parameters():\n",
        "      fisher[n].data += p.grad.data ** 2 / len(dataset)\n",
        "\n",
        "  fisher = {n: p for n, p in fisher.items()}\n",
        "  return fisher\n",
        "\n",
        "def get_ewc_loss(model, fisher, p_old):\n",
        "  loss = 0\n",
        "  for n, p in model.named_parameters():\n",
        "    _loss = fisher[n] * (p - p_old[n]) ** 2\n",
        "    loss += _loss.sum()\n",
        "  return loss"
      ],
      "metadata": {
        "id": "LhRRttbd3Bxo"
      },
      "execution_count": 42,
      "outputs": []
    },
    {
      "cell_type": "code",
      "source": [
        "model.to(device)\n",
        "\n",
        "ewc_lambda = 0.1\n",
        "\n",
        "fisher_matrix = get_fisher_diag(model, train_dataloader_new, model.named_parameters())\n",
        "prev_params = {n: p.data.clone() for n, p in model.named_parameters()}\n",
        "\n",
        "loss_fn = nn.CrossEntropyLoss()\n",
        "optimizer = torch.optim.SGD(pre_model.parameters(), lr=0.01, momentum=0.9, weight_decay=5e-4)"
      ],
      "metadata": {
        "id": "RLlF7JXB57n4"
      },
      "execution_count": 43,
      "outputs": []
    },
    {
      "cell_type": "code",
      "source": [
        "def train(dataloader, model, loss_fn, optimizer, fisher_matrix, prev_params):\n",
        "    model.train()\n",
        "    size = len(dataloader.dataset)\n",
        "    for batch, (X, y) in enumerate(dataloader):\n",
        "        X, y = X.to(device), y.to(device)\n",
        "\n",
        "        pred = model(X)\n",
        "\n",
        "        # Original loss\n",
        "        ce_loss = loss_fn(pred, y)\n",
        "\n",
        "        # EWC loss\n",
        "        ewc_loss = get_ewc_loss(model, fisher_matrix, prev_params)\n",
        "\n",
        "        loss = ce_loss + ewc_lambda * ewc_loss\n",
        "\n",
        "        loss.backward()\n",
        "        optimizer.step()\n",
        "        optimizer.zero_grad()\n",
        "\n",
        "        if batch % 100 == 0:\n",
        "            loss, current = loss.item(), (batch+1)*len(X)\n",
        "            print(f\"Loss: {loss:>7f}, {current:>5d}/{size:>5d}\")\n",
        "\n",
        "    # Update fisher matrix and previous parameters after each epoch\n",
        "    fisher_matrix = get_fisher_diag(model, dataloader, model.named_parameters())\n",
        "    prev_params = {n: p.data.clone() for n, p in model.named_parameters()}"
      ],
      "metadata": {
        "id": "k9cHcxAN3s3Q"
      },
      "execution_count": 52,
      "outputs": []
    },
    {
      "cell_type": "code",
      "source": [
        "def val(epoch):\n",
        "    model.eval()\n",
        "    correct, total = 0, 0\n",
        "    with torch.no_grad():\n",
        "        for batch, (X, y) in enumerate(eval_dataloader):\n",
        "            X, y = X.to(device), y.to(device)\n",
        "            outputs = model(X)\n",
        "            _, predicted_old = outputs.max(1)\n",
        "            total += len(y)\n",
        "            correct += predicted_old.eq(y).sum().item()\n",
        "        print(f\"Validation Acc: {100. * correct / total}\\n\")"
      ],
      "metadata": {
        "id": "YOE0I97T8HAH"
      },
      "execution_count": 45,
      "outputs": []
    },
    {
      "cell_type": "code",
      "source": [
        "for epoch in range(10):\n",
        "    print(f\"Epoch {epoch+1}: ----------------------\")\n",
        "    train(train_dataloader_new, model, loss_fn, optimizer, fisher_matrix, prev_params)\n",
        "    test(test_dataloader_new, model, loss_fn)\n",
        "    val(epoch)\n",
        "print(\"Done!\")"
      ],
      "metadata": {
        "colab": {
          "base_uri": "https://localhost:8080/"
        },
        "id": "qv-BzHy78l06",
        "outputId": "0df35636-4687-40f6-c14f-84a5b5bb70d0"
      },
      "execution_count": 53,
      "outputs": [
        {
          "output_type": "stream",
          "name": "stdout",
          "text": [
            "Epoch 1: ----------------------\n",
            "Loss: 12.452131,    64/24000\n",
            "Loss: 11.685606,  6464/24000\n",
            "Loss: 12.589679, 12864/24000\n",
            "Loss: 12.411456, 19264/24000\n",
            "Test Error: \n",
            " Accuracy: 0.0, Avg Loss: 12.390607\n",
            "\n",
            "Validation Acc: 54.94\n",
            "\n",
            "Epoch 2: ----------------------\n",
            "Loss: 12.516727,    64/24000\n",
            "Loss: 12.418256,  6464/24000\n",
            "Loss: 12.863902, 12864/24000\n",
            "Loss: 12.051398, 19264/24000\n",
            "Test Error: \n",
            " Accuracy: 0.0, Avg Loss: 12.390607\n",
            "\n",
            "Validation Acc: 54.94\n",
            "\n",
            "Epoch 3: ----------------------\n",
            "Loss: 12.676291,    64/24000\n",
            "Loss: 11.888682,  6464/24000\n",
            "Loss: 11.509149, 12864/24000\n",
            "Loss: 12.062311, 19264/24000\n",
            "Test Error: \n",
            " Accuracy: 0.0, Avg Loss: 12.390607\n",
            "\n",
            "Validation Acc: 54.94\n",
            "\n",
            "Epoch 4: ----------------------\n",
            "Loss: 12.501888,    64/24000\n",
            "Loss: 12.030292,  6464/24000\n",
            "Loss: 12.016770, 12864/24000\n",
            "Loss: 11.271650, 19264/24000\n",
            "Test Error: \n",
            " Accuracy: 0.0, Avg Loss: 12.390607\n",
            "\n",
            "Validation Acc: 54.94\n",
            "\n",
            "Epoch 5: ----------------------\n",
            "Loss: 12.083328,    64/24000\n",
            "Loss: 12.295427,  6464/24000\n",
            "Loss: 12.509932, 12864/24000\n",
            "Loss: 12.627107, 19264/24000\n",
            "Test Error: \n",
            " Accuracy: 0.0, Avg Loss: 12.390607\n",
            "\n",
            "Validation Acc: 54.94\n",
            "\n",
            "Epoch 6: ----------------------\n",
            "Loss: 12.446231,    64/24000\n",
            "Loss: 12.463569,  6464/24000\n",
            "Loss: 12.538021, 12864/24000\n",
            "Loss: 12.150789, 19264/24000\n",
            "Test Error: \n",
            " Accuracy: 0.0, Avg Loss: 12.390607\n",
            "\n",
            "Validation Acc: 54.94\n",
            "\n",
            "Epoch 7: ----------------------\n",
            "Loss: 12.665007,    64/24000\n",
            "Loss: 12.262789,  6464/24000\n",
            "Loss: 12.155506, 12864/24000\n",
            "Loss: 12.751739, 19264/24000\n",
            "Test Error: \n",
            " Accuracy: 0.0, Avg Loss: 12.390607\n",
            "\n",
            "Validation Acc: 54.94\n",
            "\n",
            "Epoch 8: ----------------------\n",
            "Loss: 12.338117,    64/24000\n",
            "Loss: 13.069818,  6464/24000\n",
            "Loss: 12.804190, 12864/24000\n",
            "Loss: 12.468123, 19264/24000\n",
            "Test Error: \n",
            " Accuracy: 0.0, Avg Loss: 12.390607\n",
            "\n",
            "Validation Acc: 54.94\n",
            "\n",
            "Epoch 9: ----------------------\n",
            "Loss: 12.739552,    64/24000\n",
            "Loss: 12.736805,  6464/24000\n",
            "Loss: 12.683325, 12864/24000\n",
            "Loss: 13.054419, 19264/24000\n",
            "Test Error: \n",
            " Accuracy: 0.0, Avg Loss: 12.390607\n",
            "\n",
            "Validation Acc: 54.94\n",
            "\n",
            "Epoch 10: ----------------------\n",
            "Loss: 12.389179,    64/24000\n",
            "Loss: 12.074051,  6464/24000\n",
            "Loss: 11.973600, 12864/24000\n",
            "Loss: 12.349802, 19264/24000\n",
            "Test Error: \n",
            " Accuracy: 0.0, Avg Loss: 12.390607\n",
            "\n",
            "Validation Acc: 54.94\n",
            "\n",
            "Done!\n"
          ]
        }
      ]
    }
  ]
}