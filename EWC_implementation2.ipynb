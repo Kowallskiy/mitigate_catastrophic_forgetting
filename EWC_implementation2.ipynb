{
  "cells": [
    {
      "cell_type": "code",
      "execution_count": 133,
      "metadata": {
        "id": "b2NSA-U_0DhS"
      },
      "outputs": [],
      "source": [
        "import torch\n",
        "import torchvision\n",
        "from torch import nn\n",
        "from torch.utils.data import DataLoader\n",
        "from torchvision import datasets\n",
        "from torchvision.transforms import ToTensor, Normalize\n",
        "from torch.utils.data import Subset"
      ]
    },
    {
      "cell_type": "code",
      "source": [
        "transform = torchvision.transforms.Compose([ToTensor(), Normalize((0.5), (0.5))])\n",
        "\n",
        "train_dataset = datasets.FashionMNIST('./data', train=True, download=True, transform=transform)\n",
        "test_dataset = datasets.FashionMNIST('./data', train=False, transform=transform)"
      ],
      "metadata": {
        "id": "8Y-slf1KBtep"
      },
      "execution_count": 134,
      "outputs": []
    },
    {
      "cell_type": "code",
      "source": [
        "# Splitting datasets for two tasks\n",
        "train_dataset_task1 = Subset(train_dataset, [i for i in range(len(train_dataset)) if train_dataset.targets[i] <= 5])\n",
        "train_dataset_task2 = Subset(train_dataset, [i for i in range(len(train_dataset)) if train_dataset.targets[i] > 5])\n",
        "test_dataset_task1 = Subset(test_dataset, [i for i in range(len(test_dataset)) if test_dataset.targets[i] <= 5])\n",
        "test_dataset_task2 = Subset(test_dataset, [i for i in range(len(test_dataset)) if test_dataset.targets[i] > 5])"
      ],
      "metadata": {
        "id": "0HCo5OQKCscZ"
      },
      "execution_count": 135,
      "outputs": []
    },
    {
      "cell_type": "code",
      "execution_count": 136,
      "metadata": {
        "colab": {
          "base_uri": "https://localhost:8080/"
        },
        "id": "rUz-SUDKsZuX",
        "outputId": "6b554f57-6040-4df3-bb5b-5c0e9a839fe7"
      },
      "outputs": [
        {
          "output_type": "stream",
          "name": "stdout",
          "text": [
            "First: {0, 1, 2, 3, 4, 5}\n",
            "Second: {8, 9, 6, 7}\n"
          ]
        }
      ],
      "source": [
        "unique_labels_1 = set()\n",
        "unique_labels_2 = set()\n",
        "\n",
        "for _, target in train_dataset_task1:\n",
        "    unique_labels_1.add(target)\n",
        "\n",
        "for _, target in train_dataset_task2:\n",
        "    unique_labels_2.add(target)\n",
        "\n",
        "print(f\"First: {unique_labels_1}\")\n",
        "print(f\"Second: {unique_labels_2}\")"
      ]
    },
    {
      "cell_type": "code",
      "execution_count": 137,
      "metadata": {
        "colab": {
          "base_uri": "https://localhost:8080/"
        },
        "id": "1_J6o_FR2Mh8",
        "outputId": "ef6f7347-63a9-4f2a-96d1-b555e43527ee"
      },
      "outputs": [
        {
          "output_type": "stream",
          "name": "stdout",
          "text": [
            "Shape of X [N, C, H, W]: torch.Size([64, 1, 28, 28])\n",
            "SHape of y: torch.Size([64]), dtype: torch.int64\n"
          ]
        }
      ],
      "source": [
        "train_dataloader_task1 = DataLoader(train_dataset_task1, batch_size=64, shuffle=True)\n",
        "test_dataloader_task1 = DataLoader(test_dataset_task1, batch_size=256, shuffle=True)\n",
        "\n",
        "for X, y in train_dataloader_task1:\n",
        "  print(f\"Shape of X [N, C, H, W]: {X.shape}\")\n",
        "  print(f\"SHape of y: {y.shape}, dtype: {y.dtype}\")\n",
        "  break"
      ]
    },
    {
      "cell_type": "code",
      "execution_count": 138,
      "metadata": {
        "id": "OFGpnxZq2NYt"
      },
      "outputs": [],
      "source": [
        "train_dataloader_task2 = DataLoader(train_dataset_task2, batch_size=64, shuffle=True)\n",
        "test_dataloader_task2 = DataLoader(test_dataset_task2, batch_size=256, shuffle=True)"
      ]
    },
    {
      "cell_type": "code",
      "execution_count": 139,
      "metadata": {
        "colab": {
          "base_uri": "https://localhost:8080/"
        },
        "id": "F7raJ2RC2Toq",
        "outputId": "bc60a24a-4f93-485d-a16d-6bd6349eabcf"
      },
      "outputs": [
        {
          "output_type": "stream",
          "name": "stdout",
          "text": [
            "Using cuda device\n"
          ]
        }
      ],
      "source": [
        "device = ('cuda' if torch.cuda.is_available() else 'cpu')\n",
        "print(f\"Using {device} device\")"
      ]
    },
    {
      "cell_type": "code",
      "execution_count": 140,
      "metadata": {
        "id": "C5nQoXPk2Wbo"
      },
      "outputs": [],
      "source": [
        "class NeuralNetwork(nn.Module):\n",
        "    def __init__(self, num_classes=10, hidden_size=512):\n",
        "        super(NeuralNetwork, self).__init__()\n",
        "        self.flatten = nn.Flatten()\n",
        "\n",
        "        self.fc1 = nn.Linear(28*28, hidden_size)\n",
        "        self.relu1 = nn.ReLU()\n",
        "        self.fc2 = nn.Linear(hidden_size, hidden_size)\n",
        "        self.relu2 = nn.ReLU()\n",
        "        self.classifier = nn.Linear(hidden_size, num_classes)\n",
        "\n",
        "        self._initialize_weights()\n",
        "\n",
        "    def _initialize_weights(self):\n",
        "        for m in self.modules():\n",
        "            if isinstance(m, nn.Linear):\n",
        "                nn.init.kaiming_normal_(m.weight, nonlinearity='sigmoid')\n",
        "            elif isinstance(m, nn.Conv2d):\n",
        "                nn.init.kaiming_normal_(m.weight, nonlinearity='relu')\n",
        "\n",
        "    def forward(self, x):\n",
        "        x = self.flatten(x)\n",
        "        x = self.fc1(x)\n",
        "        x = self.relu1(x)\n",
        "        x = self.fc2(x)\n",
        "        x = self.relu2(x)\n",
        "        logits = self.classifier(x)\n",
        "\n",
        "        return logits"
      ]
    },
    {
      "cell_type": "code",
      "execution_count": 141,
      "metadata": {
        "id": "tyhb4Zo4230I"
      },
      "outputs": [],
      "source": [
        "def train(dataloader, model, loss_fn, optimizer):\n",
        "  size = len(dataloader.dataset)\n",
        "  model.train()\n",
        "  for batch, (X, y) in enumerate(dataloader):\n",
        "    X, y = X.to(device), y.to(device)\n",
        "    pred = model(X)\n",
        "    loss = loss_fn(pred, y)\n",
        "\n",
        "    loss.backward()\n",
        "    optimizer.step()\n",
        "    optimizer.zero_grad()\n",
        "\n",
        "    if batch % 100 == 0:\n",
        "      loss, current = loss.item(), (batch+1) * len(X)\n",
        "      print(f\"Loss: {loss:>7f}, {current:>5d}/{size:>5d}\")"
      ]
    },
    {
      "cell_type": "code",
      "execution_count": 142,
      "metadata": {
        "id": "hZThNdfT26Kg"
      },
      "outputs": [],
      "source": [
        "def test(dataloader, model, loss_fn):\n",
        "  size = len(dataloader.dataset)\n",
        "  num_batches = len(dataloader)\n",
        "  model.eval()\n",
        "\n",
        "  test_loss, correct = 0, 0\n",
        "  with torch.no_grad():\n",
        "    for X, y in dataloader:\n",
        "      X, y = X.to(device), y.to(device)\n",
        "      pred = model(X)\n",
        "      test_loss += loss_fn(pred, y).item()\n",
        "      correct += (pred.argmax(1) == y).type(torch.float).sum().item()\n",
        "  test_loss /= num_batches\n",
        "  correct /= size\n",
        "  print(f\"Test Error: \\n Accuracy: {(100*correct):>0.1f}, Avg Loss: {test_loss:>8f}\\n\")"
      ]
    },
    {
      "cell_type": "code",
      "execution_count": 143,
      "metadata": {
        "id": "O8cy0wv-28X4"
      },
      "outputs": [],
      "source": [
        "model_task1 = NeuralNetwork(num_classes=10, hidden_size=512).to(device)\n",
        "\n",
        "loss_fn = nn.CrossEntropyLoss()\n",
        "optimizer = torch.optim.SGD(model_task1.parameters(), lr=0.01, momentum=0.9, weight_decay=5e-4)"
      ]
    },
    {
      "cell_type": "code",
      "execution_count": 144,
      "metadata": {
        "colab": {
          "base_uri": "https://localhost:8080/"
        },
        "id": "nO9q7xFU4UUI",
        "outputId": "cc7bc934-df07-4646-e64a-1a530a5d0074"
      },
      "outputs": [
        {
          "output_type": "stream",
          "name": "stdout",
          "text": [
            "Epoch 1\n",
            "---------------------------\n",
            "Loss: 2.377352,    64/36000\n",
            "Loss: 0.280044,  6464/36000\n",
            "Loss: 0.205652, 12864/36000\n",
            "Loss: 0.361546, 19264/36000\n",
            "Loss: 0.295533, 25664/36000\n",
            "Loss: 0.332733, 32064/36000\n",
            "Test Error: \n",
            " Accuracy: 90.2, Avg Loss: 0.268524\n",
            "\n",
            "Epoch 2\n",
            "---------------------------\n",
            "Loss: 0.187860,    64/36000\n",
            "Loss: 0.170237,  6464/36000\n",
            "Loss: 0.270315, 12864/36000\n",
            "Loss: 0.244447, 19264/36000\n",
            "Loss: 0.272340, 25664/36000\n",
            "Loss: 0.119911, 32064/36000\n",
            "Test Error: \n",
            " Accuracy: 88.3, Avg Loss: 0.311424\n",
            "\n",
            "Epoch 3\n",
            "---------------------------\n",
            "Loss: 0.242517,    64/36000\n",
            "Loss: 0.158272,  6464/36000\n",
            "Loss: 0.139934, 12864/36000\n",
            "Loss: 0.169928, 19264/36000\n",
            "Loss: 0.278709, 25664/36000\n",
            "Loss: 0.258056, 32064/36000\n",
            "Test Error: \n",
            " Accuracy: 91.4, Avg Loss: 0.241399\n",
            "\n",
            "Epoch 4\n",
            "---------------------------\n",
            "Loss: 0.165632,    64/36000\n",
            "Loss: 0.072139,  6464/36000\n",
            "Loss: 0.289277, 12864/36000\n",
            "Loss: 0.249114, 19264/36000\n",
            "Loss: 0.228521, 25664/36000\n",
            "Loss: 0.108559, 32064/36000\n",
            "Test Error: \n",
            " Accuracy: 91.3, Avg Loss: 0.230385\n",
            "\n",
            "Epoch 5\n",
            "---------------------------\n",
            "Loss: 0.096520,    64/36000\n",
            "Loss: 0.362813,  6464/36000\n",
            "Loss: 0.099855, 12864/36000\n",
            "Loss: 0.161224, 19264/36000\n",
            "Loss: 0.216766, 25664/36000\n",
            "Loss: 0.125101, 32064/36000\n",
            "Test Error: \n",
            " Accuracy: 90.6, Avg Loss: 0.253894\n",
            "\n",
            "Done!\n"
          ]
        }
      ],
      "source": [
        "epochs = 5\n",
        "for t in range(epochs):\n",
        "  print(f\"Epoch {t+1}\\n---------------------------\")\n",
        "  train(train_dataloader_task1, model_task1, loss_fn, optimizer)\n",
        "  test(test_dataloader_task1, model_task1, loss_fn)\n",
        "print(\"Done!\")"
      ]
    },
    {
      "cell_type": "code",
      "execution_count": 145,
      "metadata": {
        "id": "RZmhDHNfIypc"
      },
      "outputs": [],
      "source": [
        "def val(dataloader, model):\n",
        "    size = len(dataloader.dataset)\n",
        "    model.eval()\n",
        "\n",
        "    correct = 0\n",
        "    with torch.no_grad():\n",
        "        for X, y in dataloader:\n",
        "            X, y = X.to(device), y.to(device)\n",
        "            pred = model(X)\n",
        "            correct += (pred.argmax(1) == y).type(torch.float).sum().item()\n",
        "    correct /= size\n",
        "    print(f\"Test Error: \\n Accuracy: {(100*correct):>0.1f}\\n\")"
      ]
    },
    {
      "cell_type": "code",
      "execution_count": 146,
      "metadata": {
        "colab": {
          "base_uri": "https://localhost:8080/"
        },
        "id": "_50xg7ygJGMA",
        "outputId": "908b9fae-d963-4f52-d80d-8b485bf1ff9b"
      },
      "outputs": [
        {
          "output_type": "stream",
          "name": "stdout",
          "text": [
            "Test Error: \n",
            " Accuracy: 90.6\n",
            "\n"
          ]
        }
      ],
      "source": [
        "val(test_dataloader_task1, model_task1)"
      ]
    },
    {
      "cell_type": "markdown",
      "metadata": {
        "id": "U2xq-SiG4Uvg"
      },
      "source": [
        "________"
      ]
    },
    {
      "cell_type": "code",
      "execution_count": 147,
      "metadata": {
        "id": "GPZXh0Ga4rZy"
      },
      "outputs": [],
      "source": [
        "# model = NeuralNetwork()\n",
        "# model.load_state_dict(torch.load(\"model_old.pth\"))"
      ]
    },
    {
      "cell_type": "code",
      "execution_count": 148,
      "metadata": {
        "id": "LhRRttbd3Bxo"
      },
      "outputs": [],
      "source": [
        "from copy import deepcopy\n",
        "\n",
        "def get_fisher_diag(model, dataloader, params, empirical=False):\n",
        "    fisher = {}\n",
        "    params_dict = dict(params)\n",
        "    for n, p in deepcopy(params_dict).items():\n",
        "        p.data.zero_()\n",
        "        fisher[n] = p.data.clone().detach().requires_grad_()\n",
        "\n",
        "    model.eval()\n",
        "\n",
        "    for input, gt_label in dataloader:\n",
        "        input, gt_label = input.to(device), gt_label.to(device)\n",
        "        model.zero_grad()\n",
        "        output = model(input)\n",
        "\n",
        "        if empirical:\n",
        "            label = output.max(1)[1]\n",
        "        else:\n",
        "            label = gt_label\n",
        "\n",
        "        # label = gt_label.repeat(output.size(0))\n",
        "        negloglikelihood = torch.nn.functional.nll_loss(torch.nn.functional.log_softmax(output, dim=1), label)\n",
        "        negloglikelihood.backward()\n",
        "\n",
        "        for n, p in model.named_parameters():\n",
        "            fisher[n].data += p.grad.data ** 2 / len(dataloader.dataset)\n",
        "\n",
        "    fisher = {n: p for n, p in fisher.items()}\n",
        "    return fisher\n",
        "\n",
        "\n",
        "def get_ewc_loss(model, fisher, p_old):\n",
        "    loss = 0\n",
        "    for n, p in model.named_parameters():\n",
        "        _loss = fisher[n] * (p - p_old[n]) ** 2\n",
        "        loss += _loss.sum()\n",
        "    return loss"
      ]
    },
    {
      "cell_type": "code",
      "source": [
        "model_task2 = model_task1"
      ],
      "metadata": {
        "id": "3h2xatAde04F"
      },
      "execution_count": 149,
      "outputs": []
    },
    {
      "cell_type": "code",
      "execution_count": 150,
      "metadata": {
        "id": "RLlF7JXB57n4"
      },
      "outputs": [],
      "source": [
        "model_task2.to(device)\n",
        "\n",
        "ewc_lambda = 1_000_000\n",
        "\n",
        "fisher_matrix = get_fisher_diag(model_task2, train_dataloader_task1, model_task2.named_parameters())\n",
        "prev_params = {n: p.data.clone() for n, p in model_task2.named_parameters()}\n",
        "\n",
        "loss_fn = nn.CrossEntropyLoss()\n",
        "optimizer = torch.optim.SGD(model_task2.parameters(), lr=0.001, momentum=0.9)"
      ]
    },
    {
      "cell_type": "code",
      "execution_count": 151,
      "metadata": {
        "id": "k9cHcxAN3s3Q"
      },
      "outputs": [],
      "source": [
        "def train(dataloader, model, loss_fn, optimizer, fisher_matrix, prev_params):\n",
        "    model.train()\n",
        "    size = len(dataloader.dataset)\n",
        "    for batch, (X, y) in enumerate(dataloader):\n",
        "        X, y = X.to(device), y.to(device)\n",
        "\n",
        "        pred = model(X)\n",
        "\n",
        "        # Original loss\n",
        "        ce_loss = loss_fn(pred, y)\n",
        "\n",
        "        # EWC loss\n",
        "        ewc_loss = get_ewc_loss(model, fisher_matrix, prev_params)\n",
        "\n",
        "        loss = ce_loss + ewc_lambda * ewc_loss\n",
        "\n",
        "        loss.backward()\n",
        "        optimizer.step()\n",
        "        optimizer.zero_grad()\n",
        "\n",
        "        if batch % 100 == 0:\n",
        "            loss, current = loss.item(), (batch+1)*len(X)\n",
        "            print(f\"Loss: {loss:>7f}, {current:>5d}/{size:>5d}\")"
      ]
    },
    {
      "cell_type": "code",
      "execution_count": 152,
      "metadata": {
        "id": "YOE0I97T8HAH"
      },
      "outputs": [],
      "source": [
        "# def val(epoch):\n",
        "#     model.eval()\n",
        "#     correct, total = 0, 0\n",
        "#     with torch.no_grad():\n",
        "#         for batch, (X, y) in enumerate(test_dataloader_task1):\n",
        "#             X, y = X.to(device), y.to(device)\n",
        "#             outputs = model(X)\n",
        "#             _, predicted_old = outputs.max(1)\n",
        "#             print(torch.unique(predicted_old))\n",
        "#             total += len(y)\n",
        "#             correct += predicted_old.eq(y).sum().item()\n",
        "#         print(f\"Validation Acc: {100. * correct / total}\\n\")\n",
        "\n",
        "def val(dataloader, model):\n",
        "    size = len(dataloader.dataset)\n",
        "    model.eval()\n",
        "\n",
        "    correct = 0\n",
        "    with torch.no_grad():\n",
        "        for X, y in dataloader:\n",
        "            X, y = X.to(device), y.to(device)\n",
        "            pred = model(X)\n",
        "            _, predicted_old = pred.max(1)\n",
        "            print(torch.unique(predicted_old))\n",
        "            correct += (pred.argmax(1) == y).type(torch.float).sum().item()\n",
        "    correct /= size\n",
        "    print(f\"Validation Accuracy: {(100*correct):>0.1f}\\n\")"
      ]
    },
    {
      "cell_type": "code",
      "execution_count": 153,
      "metadata": {
        "colab": {
          "base_uri": "https://localhost:8080/"
        },
        "id": "qv-BzHy78l06",
        "outputId": "1752db4e-da72-4f26-bce3-2b8e40271b23"
      },
      "outputs": [
        {
          "output_type": "stream",
          "name": "stdout",
          "text": [
            "Epoch 1: ----------------------\n",
            "Loss: 12.273902,    64/24000\n",
            "Loss: 0.599661,  6464/24000\n",
            "Loss: 0.342755, 12864/24000\n",
            "Loss: 0.293038, 19264/24000\n",
            "Test Error: \n",
            " Accuracy: 94.1, Avg Loss: 0.178757\n",
            "\n",
            "Epoch 2: ----------------------\n",
            "Loss: 0.315878,    64/24000\n",
            "Loss: 0.178056,  6464/24000\n",
            "Loss: 0.193526, 12864/24000\n",
            "Loss: 0.187861, 19264/24000\n",
            "Test Error: \n",
            " Accuracy: 94.9, Avg Loss: 0.158991\n",
            "\n",
            "Epoch 3: ----------------------\n",
            "Loss: 0.153440,    64/24000\n",
            "Loss: 0.208027,  6464/24000\n",
            "Loss: 0.126336, 12864/24000\n",
            "Loss: 0.216780, 19264/24000\n",
            "Test Error: \n",
            " Accuracy: 95.3, Avg Loss: 0.140433\n",
            "\n",
            "Epoch 4: ----------------------\n",
            "Loss: 0.289167,    64/24000\n",
            "Loss: 0.187533,  6464/24000\n",
            "Loss: 0.207336, 12864/24000\n",
            "Loss: 0.167752, 19264/24000\n",
            "Test Error: \n",
            " Accuracy: 95.9, Avg Loss: 0.129740\n",
            "\n",
            "Epoch 5: ----------------------\n",
            "Loss: 0.291168,    64/24000\n",
            "Loss: 0.150990,  6464/24000\n",
            "Loss: 0.094746, 12864/24000\n",
            "Loss: 0.128864, 19264/24000\n",
            "Test Error: \n",
            " Accuracy: 96.0, Avg Loss: 0.121620\n",
            "\n",
            "Done!\n"
          ]
        }
      ],
      "source": [
        "for epoch in range(5):\n",
        "    print(f\"Epoch {epoch+1}: ----------------------\")\n",
        "    train(train_dataloader_task2, model_task2, loss_fn, optimizer, fisher_matrix, prev_params)\n",
        "    test(test_dataloader_task2, model_task2, loss_fn)\n",
        "print(\"Done!\")"
      ]
    },
    {
      "cell_type": "code",
      "execution_count": 154,
      "metadata": {
        "colab": {
          "base_uri": "https://localhost:8080/"
        },
        "id": "1_oObVs6s35e",
        "outputId": "0ad7db10-218d-4c14-9803-a69c1328056b"
      },
      "outputs": [
        {
          "output_type": "stream",
          "name": "stdout",
          "text": [
            "tensor([0, 1, 3, 4, 6, 7, 8, 9], device='cuda:0')\n",
            "tensor([0, 1, 3, 6, 7, 8, 9], device='cuda:0')\n",
            "tensor([1, 3, 6, 7, 8, 9], device='cuda:0')\n",
            "tensor([1, 3, 6, 7, 9], device='cuda:0')\n",
            "tensor([1, 3, 6, 7, 8, 9], device='cuda:0')\n",
            "tensor([1, 3, 6, 7, 8, 9], device='cuda:0')\n",
            "tensor([1, 3, 6, 7, 8, 9], device='cuda:0')\n",
            "tensor([1, 3, 6, 7, 8, 9], device='cuda:0')\n",
            "tensor([1, 3, 6, 7, 8, 9], device='cuda:0')\n",
            "tensor([0, 1, 3, 6, 7, 8, 9], device='cuda:0')\n",
            "tensor([1, 3, 6, 7, 8, 9], device='cuda:0')\n",
            "tensor([0, 1, 3, 6, 7, 8, 9], device='cuda:0')\n",
            "tensor([1, 3, 6, 7, 8, 9], device='cuda:0')\n",
            "tensor([1, 3, 6, 7, 8, 9], device='cuda:0')\n",
            "tensor([0, 1, 3, 6, 7, 8, 9], device='cuda:0')\n",
            "tensor([1, 3, 6, 7, 8, 9], device='cuda:0')\n",
            "tensor([1, 3, 6, 7, 8, 9], device='cuda:0')\n",
            "tensor([0, 1, 3, 6, 7, 8, 9], device='cuda:0')\n",
            "tensor([1, 3, 6, 7, 8, 9], device='cuda:0')\n",
            "tensor([0, 1, 3, 6, 7, 8, 9], device='cuda:0')\n",
            "tensor([1, 2, 3, 6, 7, 8, 9], device='cuda:0')\n",
            "tensor([0, 1, 3, 6, 7, 8, 9], device='cuda:0')\n",
            "tensor([1, 3, 6, 7, 8, 9], device='cuda:0')\n",
            "tensor([1, 3, 6, 7, 8, 9], device='cuda:0')\n",
            "Validation Accuracy: 17.9\n",
            "\n"
          ]
        }
      ],
      "source": [
        "val(test_dataloader_task1, model_task2)"
      ]
    }
  ],
  "metadata": {
    "accelerator": "GPU",
    "colab": {
      "gpuType": "T4",
      "provenance": []
    },
    "kernelspec": {
      "display_name": "Python 3",
      "name": "python3"
    },
    "language_info": {
      "name": "python"
    }
  },
  "nbformat": 4,
  "nbformat_minor": 0
}