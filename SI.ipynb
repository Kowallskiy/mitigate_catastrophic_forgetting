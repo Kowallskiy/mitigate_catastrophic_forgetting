{
  "nbformat": 4,
  "nbformat_minor": 0,
  "metadata": {
    "colab": {
      "provenance": []
    },
    "kernelspec": {
      "name": "python3",
      "display_name": "Python 3"
    },
    "language_info": {
      "name": "python"
    }
  },
  "cells": [
    {
      "cell_type": "code",
      "execution_count": 206,
      "metadata": {
        "id": "0nAA3zpAWq8S"
      },
      "outputs": [],
      "source": [
        "import torch\n",
        "import torchvision\n",
        "from torch import nn\n",
        "from torch.utils.data import DataLoader\n",
        "from torchvision import datasets\n",
        "from torchvision.transforms import ToTensor, Normalize"
      ]
    },
    {
      "cell_type": "code",
      "source": [
        "class FashionMNISTtask1(datasets.FashionMNIST):\n",
        "  def __init__(self, root, train=True, transform=None, target_transform=None, download=False):\n",
        "    super(FashionMNISTtask1, self).__init__(root, train=train, transform=transform, target_transform=target_transform,download=download)\n",
        "    self.classes = self.classes[:6]\n",
        "\n",
        "  def __getitem__(self, index):\n",
        "    img, target = super(FashionMNISTtask1, self).__getitem__(index)\n",
        "    if target < 6:\n",
        "        return img, target\n",
        "    else:\n",
        "        return img, -1"
      ],
      "metadata": {
        "id": "DBfO-uNXe0Bv"
      },
      "execution_count": 207,
      "outputs": []
    },
    {
      "cell_type": "code",
      "source": [
        "class FashionMNISTtask2(datasets.FashionMNIST):\n",
        "    def __init__(self, root, train=True, transform=None, target_transform=None, download=False):\n",
        "        super(FashionMNISTtask2, self).__init__(root, train=train, transform=transform, target_transform=target_transform,download=download)\n",
        "        self.classes = self.classes[6:]\n",
        "\n",
        "    def __getitem__(self, index):\n",
        "        img, target = super(FashionMNISTtask2, self).__getitem__(index)\n",
        "        if target >= 6:\n",
        "            return img, target\n",
        "        else:\n",
        "            return img, -1"
      ],
      "metadata": {
        "id": "UJ5oDtEAe13k"
      },
      "execution_count": 208,
      "outputs": []
    },
    {
      "cell_type": "code",
      "source": [
        "transform = torchvision.transforms.Compose([ToTensor(), Normalize((0.5), (0.5))])\n",
        "\n",
        "train_dataset_task1 = FashionMNISTtask1(root='./data1', train=True, transform=transform, download=True)\n",
        "test_dataset_task1 = FashionMNISTtask1(root='./data1', train=False, transform=transform, download=True)"
      ],
      "metadata": {
        "id": "ohnekBg0e3il"
      },
      "execution_count": 209,
      "outputs": []
    },
    {
      "cell_type": "code",
      "source": [
        "train_dataset_task2 = FashionMNISTtask2(root='./data2', train=True, transform=transform, download=True)\n",
        "test_dataset_task2 = FashionMNISTtask2(root='./data2', train=False, transform=transform, download=True)"
      ],
      "metadata": {
        "id": "R0vTP5-se5Zm"
      },
      "execution_count": 210,
      "outputs": []
    },
    {
      "cell_type": "code",
      "source": [
        "train_dataset_filtered_task1 = [data for data in train_dataset_task1 if data[1] != -1]\n",
        "test_dataset_filtered_task1 = [data for data in test_dataset_task1 if data[1] != -1]\n",
        "\n",
        "train_dataset_filtered_task2 = [data for data in train_dataset_task2 if data[1] != -1]\n",
        "test_dataset_filtered_task2 = [data for data in test_dataset_task2 if data[1] != -1]"
      ],
      "metadata": {
        "id": "7LzaWZYye7Bf"
      },
      "execution_count": 211,
      "outputs": []
    },
    {
      "cell_type": "code",
      "source": [
        "train_dataloader_task1 = DataLoader(train_dataset_filtered_task1, batch_size=64, shuffle=True)\n",
        "test_dataloader_task1 = DataLoader(test_dataset_filtered_task1, batch_size=256, shuffle=False)\n",
        "\n",
        "for X, y in train_dataloader_task1:\n",
        "  print(f\"Shape of X [N, C, H, W]: {X.shape}\")\n",
        "  print(f\"SHape of y: {y.shape}, dtype: {y.dtype}\")\n",
        "  break"
      ],
      "metadata": {
        "id": "-FY2hRiYe88M",
        "colab": {
          "base_uri": "https://localhost:8080/"
        },
        "outputId": "70405b57-84e4-4283-b3d0-8e11854d7fa5"
      },
      "execution_count": 212,
      "outputs": [
        {
          "output_type": "stream",
          "name": "stdout",
          "text": [
            "Shape of X [N, C, H, W]: torch.Size([64, 1, 28, 28])\n",
            "SHape of y: torch.Size([64]), dtype: torch.int64\n"
          ]
        }
      ]
    },
    {
      "cell_type": "code",
      "source": [
        "train_dataloader_task2 = DataLoader(train_dataset_filtered_task2, batch_size=64, shuffle=True)\n",
        "test_dataloader_task2 = DataLoader(test_dataset_filtered_task2, batch_size=256, shuffle=False)"
      ],
      "metadata": {
        "id": "iqSxwCusfI2k"
      },
      "execution_count": 213,
      "outputs": []
    },
    {
      "cell_type": "code",
      "source": [
        "device = ('cuda' if torch.cuda.is_available() else 'cpu')\n",
        "print(f\"Using {device} device.\")"
      ],
      "metadata": {
        "id": "bpktoYlRfOz8",
        "colab": {
          "base_uri": "https://localhost:8080/"
        },
        "outputId": "a9560ad1-fd26-44ee-d0cb-d053904acf01"
      },
      "execution_count": 214,
      "outputs": [
        {
          "output_type": "stream",
          "name": "stdout",
          "text": [
            "Using cpu device.\n"
          ]
        }
      ]
    },
    {
      "cell_type": "code",
      "source": [
        "class NeuralNetwork(nn.Module):\n",
        "    def __init__(self, num_classes=10, hidden_size=512):\n",
        "        super().__init__()\n",
        "        self.flatten = nn.Flatten()\n",
        "        self.fc1 = nn.Linear(28*28, hidden_size)\n",
        "        self.relu1 = nn.ReLU()\n",
        "        self.fc2 = nn.Linear(hidden_size, hidden_size)\n",
        "        self.relu2 = nn.ReLU()\n",
        "        self.classifier = nn.Linear(hidden_size, num_classes)\n",
        "\n",
        "        self._initialize_weights()\n",
        "\n",
        "    def _initialize_weights(self):\n",
        "        for m in self.modules():\n",
        "            if isinstance(m, nn.Linear):\n",
        "                nn.init.kaiming_normal_(m.weight, nonlinearity='relu')\n",
        "            elif isinstance(m, nn.Conv2d):\n",
        "                nn.init.kaiming_normal_(m.weight, nonlinearity='relu')\n",
        "\n",
        "    def forward(self, x):\n",
        "        x = self.flatten(x)\n",
        "        x = self.relu1(self.fc1(x))\n",
        "        x = self.relu2(self.fc2(x))\n",
        "        logits = self.classifier(x)\n",
        "\n",
        "        return logits"
      ],
      "metadata": {
        "id": "pE52yp78fcP8"
      },
      "execution_count": 215,
      "outputs": []
    },
    {
      "cell_type": "code",
      "source": [
        "model = NeuralNetwork()\n",
        "optimizer = torch.optim.Adam(model.parameters(), lr=0.001)\n",
        "criterion = nn.CrossEntropyLoss()\n",
        "\n",
        "model.to(device)"
      ],
      "metadata": {
        "id": "X9rpALVfS0cs",
        "colab": {
          "base_uri": "https://localhost:8080/"
        },
        "outputId": "04ce10cd-4976-4dc8-c7ff-e10994019393"
      },
      "execution_count": 216,
      "outputs": [
        {
          "output_type": "execute_result",
          "data": {
            "text/plain": [
              "NeuralNetwork(\n",
              "  (flatten): Flatten(start_dim=1, end_dim=-1)\n",
              "  (fc1): Linear(in_features=784, out_features=512, bias=True)\n",
              "  (relu1): ReLU()\n",
              "  (fc2): Linear(in_features=512, out_features=512, bias=True)\n",
              "  (relu2): ReLU()\n",
              "  (classifier): Linear(in_features=512, out_features=10, bias=True)\n",
              ")"
            ]
          },
          "metadata": {},
          "execution_count": 216
        }
      ]
    },
    {
      "cell_type": "code",
      "source": [
        "def evaluate_model(model, data_loader, device):\n",
        "    model.eval()  # Set the model to evaluation mode\n",
        "    total, correct = 0, 0\n",
        "    with torch.no_grad():  # No gradients needed for evaluation\n",
        "        for X, y in data_loader:\n",
        "            X, y = X.to(device), y.to(device)\n",
        "            outputs = model(X)\n",
        "            _, predicted = torch.max(outputs, 1)\n",
        "            total += y.size(0)\n",
        "            correct += (predicted == y).sum().item()\n",
        "    accuracy = correct / total\n",
        "    return accuracy"
      ],
      "metadata": {
        "id": "JVSIqpVvBDyQ"
      },
      "execution_count": 217,
      "outputs": []
    },
    {
      "cell_type": "code",
      "source": [
        "W = {n: torch.zeros_like(p, requires_grad=False) for n, p in model.named_parameters() if p.requires_grad}\n",
        "p_old = {n: p.clone().detach() for n, p in model.named_parameters() if p.requires_grad}"
      ],
      "metadata": {
        "id": "UHU8NHzhCoiT"
      },
      "execution_count": 218,
      "outputs": []
    },
    {
      "cell_type": "code",
      "source": [
        "# Surrogate loss function for Synaptic Intelligence\n",
        "def surrogate_loss(W, p_old):\n",
        "    loss = 0\n",
        "    for n, p in model.named_parameters():\n",
        "        if p.requires_grad:\n",
        "            loss += (W[n] * (p - p_old[n]) ** 2).sum()\n",
        "    return loss"
      ],
      "metadata": {
        "id": "ZiFmB629C7fg"
      },
      "execution_count": 219,
      "outputs": []
    },
    {
      "cell_type": "code",
      "source": [
        "# Update omega after completing a task\n",
        "def update_omega(W, param_importance, epsilon=0.1):\n",
        "    for n, p in model.named_parameters():\n",
        "        if p.requires_grad:\n",
        "            delta = p.detach() - p_old[n]\n",
        "            W[n] += param_importance[n] / (delta ** 2 + epsilon)"
      ],
      "metadata": {
        "id": "2U14mfAtDFtg"
      },
      "execution_count": 220,
      "outputs": []
    },
    {
      "cell_type": "code",
      "source": [
        "# Synaptic Intelligence regularization coefficient\n",
        "c = 0.6\n",
        "\n",
        "# Training loop\n",
        "for i, task_data in enumerate([train_dataloader_task1, train_dataloader_task2]):  # Assuming these are DataLoader instances\n",
        "    param_importance = {n: torch.zeros_like(p, requires_grad=False) for n, p in model.named_parameters() if p.requires_grad}\n",
        "\n",
        "    for epoch in range(3):\n",
        "        for X, y in task_data:\n",
        "            X, y = X.to(device), y.to(device)\n",
        "            optimizer.zero_grad()\n",
        "            output = model(X)\n",
        "            loss = criterion(output, y)\n",
        "\n",
        "            # Compute gradients for the current task\n",
        "            loss.backward(retain_graph=True)  # Retain graph if needed for subsequent operations\n",
        "\n",
        "            # Update parameter importance dynamically during training\n",
        "            for n, p in model.named_parameters():\n",
        "                if p.requires_grad:\n",
        "                    if p.grad is not None:  # Ensure gradients exist\n",
        "                        param_importance[n] += p.grad.abs() * (p.detach() - p_old[n]).abs()\n",
        "\n",
        "            # Apply Synaptic Intelligence regularization\n",
        "            si_loss = surrogate_loss(W, p_old)\n",
        "            total_loss = loss + c * si_loss\n",
        "\n",
        "            total_loss.backward()  # Backward pass on total loss\n",
        "\n",
        "            optimizer.step()\n",
        "\n",
        "                # Evaluation after each epoch\n",
        "        if i == 0:  # For task 1\n",
        "            val_accuracy = evaluate_model(model, test_dataloader_task1, device)\n",
        "        else:  # For task 2\n",
        "            val_accuracy = evaluate_model(model, test_dataloader_task2, device)\n",
        "        print(f'Epoch {epoch+1}, Task {i+1}, Validation Accuracy: {val_accuracy:.2f}')\n",
        "\n",
        "    # Update omega (W) for the next task after training is complete\n",
        "    update_omega(W, param_importance)\n",
        "\n",
        "    # Update old parameters (p_old) for the next task\n",
        "    p_old = {n: p.clone().detach() for n, p in model.named_parameters() if p.requires_grad}\n"
      ],
      "metadata": {
        "id": "NVnP1UndDjyo",
        "colab": {
          "base_uri": "https://localhost:8080/"
        },
        "outputId": "2c693767-21aa-4099-d61b-514d02620fdf"
      },
      "execution_count": 221,
      "outputs": [
        {
          "output_type": "stream",
          "name": "stdout",
          "text": [
            "Epoch 1, Task 1, Validation Accuracy: 0.89\n",
            "Epoch 2, Task 1, Validation Accuracy: 0.90\n",
            "Epoch 3, Task 1, Validation Accuracy: 0.90\n",
            "Epoch 1, Task 2, Validation Accuracy: 0.96\n",
            "Epoch 2, Task 2, Validation Accuracy: 0.97\n",
            "Epoch 3, Task 2, Validation Accuracy: 0.97\n"
          ]
        }
      ]
    },
    {
      "cell_type": "code",
      "source": [
        "acc = evaluate_model(model, test_dataloader_task1, device)\n",
        "acc"
      ],
      "metadata": {
        "colab": {
          "base_uri": "https://localhost:8080/"
        },
        "id": "7iyA63kSFe8g",
        "outputId": "8655b194-5296-4b57-b729-8729b5433be0"
      },
      "execution_count": 222,
      "outputs": [
        {
          "output_type": "execute_result",
          "data": {
            "text/plain": [
              "0.12866666666666668"
            ]
          },
          "metadata": {},
          "execution_count": 222
        }
      ]
    }
  ]
}