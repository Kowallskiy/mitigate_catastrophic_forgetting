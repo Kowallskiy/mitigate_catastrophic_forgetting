{
  "nbformat": 4,
  "nbformat_minor": 0,
  "metadata": {
    "colab": {
      "provenance": []
    },
    "kernelspec": {
      "name": "python3",
      "display_name": "Python 3"
    },
    "language_info": {
      "name": "python"
    }
  },
  "cells": [
    {
      "cell_type": "code",
      "execution_count": 591,
      "metadata": {
        "id": "GzUzjT_SM22m"
      },
      "outputs": [],
      "source": [
        "import torch\n",
        "import torchvision\n",
        "from torch import nn\n",
        "from torch.utils.data import DataLoader\n",
        "from torchvision import datasets\n",
        "from torchvision.transforms import ToTensor, Normalize"
      ]
    },
    {
      "cell_type": "code",
      "source": [
        "class FashionMNISTtask1(datasets.FashionMNIST):\n",
        "  def __init__(self, root, train=True, transform=None, target_transform=None, download=False):\n",
        "    super(FashionMNISTtask1, self).__init__(root, train=train, transform=transform, target_transform=target_transform,download=download)\n",
        "    self.classes = self.classes[:6]\n",
        "\n",
        "  def __getitem__(self, index):\n",
        "    img, target = super(FashionMNISTtask1, self).__getitem__(index)\n",
        "    if target < 6:\n",
        "        return img, target\n",
        "    else:\n",
        "        return img, -1\n"
      ],
      "metadata": {
        "id": "iowt64kIx-pn"
      },
      "execution_count": 592,
      "outputs": []
    },
    {
      "cell_type": "code",
      "source": [
        "class FashionMNISTtask2(datasets.FashionMNIST):\n",
        "    def __init__(self, root, train=True, transform=None, target_transform=None, download=False):\n",
        "        super(FashionMNISTtask2, self).__init__(root, train=train, transform=transform, target_transform=target_transform,download=download)\n",
        "        self.classes = self.classes[6:]\n",
        "\n",
        "    def __getitem__(self, index):\n",
        "        img, target = super(FashionMNISTtask2, self).__getitem__(index)\n",
        "        if target >= 6:\n",
        "            return img, target\n",
        "        else:\n",
        "            return img, -1"
      ],
      "metadata": {
        "id": "X1tlnFkE3jO1"
      },
      "execution_count": 593,
      "outputs": []
    },
    {
      "cell_type": "code",
      "source": [
        "transform = torchvision.transforms.Compose([ToTensor(), Normalize((0.5), (0.5))])\n",
        "\n",
        "train_dataset_task1 = FashionMNISTtask1(root='./data1', train=True, transform=transform, download=True)\n",
        "test_dataset_task1 = FashionMNISTtask1(root='./data1', train=False, transform=transform, download=True)"
      ],
      "metadata": {
        "id": "Es33ycfn0wgr"
      },
      "execution_count": 594,
      "outputs": []
    },
    {
      "cell_type": "code",
      "source": [
        "train_dataset_task2 = FashionMNISTtask2(root='./data2', train=True, transform=transform, download=True)\n",
        "test_dataset_task2 = FashionMNISTtask2(root='./data2', train=False, transform=transform, download=True)"
      ],
      "metadata": {
        "id": "ItSNRkOm4vBs"
      },
      "execution_count": 595,
      "outputs": []
    },
    {
      "cell_type": "code",
      "source": [
        "train_dataset_filtered_task1 = [data for data in train_dataset_task1 if data[1] != -1]\n",
        "test_dataset_filtered_task1 = [data for data in test_dataset_task1 if data[1] != -1]\n",
        "\n",
        "train_dataset_filtered_task2 = [data for data in train_dataset_task2 if data[1] != -1]\n",
        "test_dataset_filtered_task2 = [data for data in test_dataset_task2 if data[1] != -1]"
      ],
      "metadata": {
        "id": "PWyzJURmqBjQ"
      },
      "execution_count": 596,
      "outputs": []
    },
    {
      "cell_type": "code",
      "source": [
        "train_dataloader_task1 = DataLoader(train_dataset_filtered_task1, batch_size=64, shuffle=True)\n",
        "test_dataloader_task1 = DataLoader(test_dataset_filtered_task1, batch_size=256, shuffle=False)\n",
        "\n",
        "for X, y in train_dataloader_task1:\n",
        "  print(f\"Shape of X [N, C, H, W]: {X.shape}\")\n",
        "  print(f\"SHape of y: {y.shape}, dtype: {y.dtype}\")\n",
        "  break"
      ],
      "metadata": {
        "id": "fl2AkOV8POXp",
        "colab": {
          "base_uri": "https://localhost:8080/"
        },
        "outputId": "d94255e6-7582-4a8d-94e9-efc839d5a34f"
      },
      "execution_count": 597,
      "outputs": [
        {
          "output_type": "stream",
          "name": "stdout",
          "text": [
            "Shape of X [N, C, H, W]: torch.Size([64, 1, 28, 28])\n",
            "SHape of y: torch.Size([64]), dtype: torch.int64\n"
          ]
        }
      ]
    },
    {
      "cell_type": "code",
      "source": [
        "len(train_dataloader_task1)"
      ],
      "metadata": {
        "colab": {
          "base_uri": "https://localhost:8080/"
        },
        "id": "dOY9PckQp-O3",
        "outputId": "2b4a4588-23e2-441e-8244-8e03e88e1765"
      },
      "execution_count": 598,
      "outputs": [
        {
          "output_type": "execute_result",
          "data": {
            "text/plain": [
              "563"
            ]
          },
          "metadata": {},
          "execution_count": 598
        }
      ]
    },
    {
      "cell_type": "code",
      "source": [
        "train_dataloader_task2 = DataLoader(train_dataset_filtered_task2, batch_size=64, shuffle=True)\n",
        "test_dataloader_task2 = DataLoader(test_dataset_filtered_task2, batch_size=256, shuffle=False)"
      ],
      "metadata": {
        "id": "HKo3B_gW5ASM"
      },
      "execution_count": 599,
      "outputs": []
    },
    {
      "cell_type": "code",
      "source": [
        "device = ('cuda' if torch.cuda.is_available() else 'cpu')\n",
        "print(f\"Using {device} device\")"
      ],
      "metadata": {
        "id": "9iNzNEPfQAxR",
        "colab": {
          "base_uri": "https://localhost:8080/"
        },
        "outputId": "511d5c7b-eaff-4491-b80c-d10105eded05"
      },
      "execution_count": 600,
      "outputs": [
        {
          "output_type": "stream",
          "name": "stdout",
          "text": [
            "Using cpu device\n"
          ]
        }
      ]
    },
    {
      "cell_type": "code",
      "source": [
        "def kaiming_normal_init(m):\n",
        "    if isinstance(m, nn.Conv2d):\n",
        "        nn.init.kaiming_normal_(m.weight, nonlinearity='relu')\n",
        "    elif isinstance(m, nn.Linear):\n",
        "        nn.init.kaiming_normal_(m.weight, nonlinearity='sigmoid')"
      ],
      "metadata": {
        "id": "ZDHmSu6iXa39"
      },
      "execution_count": 601,
      "outputs": []
    },
    {
      "cell_type": "code",
      "source": [
        "class NeuralNetwork(nn.Module):\n",
        "    def __init__(self, num_classes=10, hidden_size=512):\n",
        "        super(NeuralNetwork, self).__init__()\n",
        "        self.flatten = nn.Flatten()\n",
        "\n",
        "        self.fc1 = nn.Linear(28*28, hidden_size)\n",
        "        self.relu1 = nn.ReLU()\n",
        "        self.fc2 = nn.Linear(hidden_size, hidden_size)\n",
        "        self.relu2 = nn.ReLU()\n",
        "        self.classifier = nn.Linear(hidden_size, num_classes)\n",
        "\n",
        "        self._initialize_weights()\n",
        "\n",
        "    def _initialize_weights(self):\n",
        "        for m in self.modules():\n",
        "            if isinstance(m, nn.Linear):\n",
        "                nn.init.kaiming_normal_(m.weight, nonlinearity='sigmoid')\n",
        "            elif isinstance(m, nn.Conv2d):\n",
        "                nn.init.kaiming_normal_(m.weight, nonlinearity='relu')\n",
        "\n",
        "    def forward(self, x):\n",
        "        x = self.flatten(x)\n",
        "        x = self.fc1(x)\n",
        "        x = self.relu1(x)\n",
        "        x = self.fc2(x)\n",
        "        x = self.relu2(x)\n",
        "        logits = self.classifier(x)\n",
        "\n",
        "        return logits"
      ],
      "metadata": {
        "id": "aRMrQdtuQKpQ"
      },
      "execution_count": 602,
      "outputs": []
    },
    {
      "cell_type": "code",
      "source": [
        "class CNN(nn.Module):\n",
        "    def __init__(self, num_classes=10, hidden_size=512):\n",
        "        super(CNN, self).__init__()\n",
        "\n",
        "        self.conv1 = nn.Conv2d(in_channels=1, out_channels=16, kernel_size=3, stride=1, padding=1)\n",
        "        self.relu1 = nn.ReLU()\n",
        "        self.conv2 = nn.Conv2d(16, 32, 3, 1, 1)\n",
        "        self.relu2 = nn.ReLU()\n",
        "        self.pool = nn.MaxPool2d(2, 2)\n",
        "        self.flatten = nn.Flatten()\n",
        "        self.fc1 = nn.Linear(32*14*14, hidden_size)\n",
        "        self.relu3 = nn.ReLU()\n",
        "        self.classifier = nn.Linear(hidden_size, num_classes)\n",
        "\n",
        "        self._initialize_weights()\n",
        "\n",
        "    def _initialize_weights(self):\n",
        "        for m in self.modules():\n",
        "            if isinstance(m, nn.Conv2d):\n",
        "                nn.init.kaiming_normal_(m.weight, nonlinearity='relu')\n",
        "            elif isinstance(m, nn.Linear):\n",
        "                nn.init.kaiming_normal_(m.weight, nonlinearity='sigmoid')\n",
        "\n",
        "    def forward(self, x):\n",
        "        x = self.conv1(x)\n",
        "        x = self.relu1(x)\n",
        "        x = self.conv2(x)\n",
        "        x = self.relu2(x)\n",
        "        x = self.pool(x)\n",
        "        x = self.flatten(x)\n",
        "        x = self.fc1(x)\n",
        "        x = self.relu3(x)\n",
        "        logits = self.classifier(x)\n",
        "\n",
        "        return logits\n",
        "\n",
        "    def forward_features(self, x):\n",
        "        x = self.conv1(x)\n",
        "        x = self.relu1(x)\n",
        "        x = self.conv2(x)\n",
        "        x = self.relu2(x)\n",
        "        x = self.pool(x)\n",
        "        x = self.flatten(x)\n",
        "        x = self.fc1(x)\n",
        "        x = self.relu3(x)\n",
        "\n",
        "        return x\n"
      ],
      "metadata": {
        "id": "kpdF76WoblBF"
      },
      "execution_count": 603,
      "outputs": []
    },
    {
      "cell_type": "code",
      "source": [
        "def train(dataloader, model, loss_fn, optimizer):\n",
        "  size = len(dataloader.dataset)\n",
        "  model.train()\n",
        "  for batch, (X, y) in enumerate(dataloader):\n",
        "    X, y = X.to(device), y.to(device)\n",
        "    pred = model(X)\n",
        "    loss = loss_fn(pred, y)\n",
        "\n",
        "    loss.backward()\n",
        "    optimizer.step()\n",
        "    optimizer.zero_grad()\n",
        "\n",
        "    if batch % 100 == 0:\n",
        "      loss, current = loss.item(), (batch+1) * len(X)\n",
        "      print(f\"Loss: {loss:>7f}, {current:>5d}/{size:>5d}\")"
      ],
      "metadata": {
        "id": "LTFmmsEBSxEX"
      },
      "execution_count": 604,
      "outputs": []
    },
    {
      "cell_type": "code",
      "source": [
        "def test(dataloader, model, loss_fn):\n",
        "  size = len(dataloader.dataset)\n",
        "  num_batches = len(dataloader)\n",
        "  model.eval()\n",
        "\n",
        "  test_loss, correct = 0, 0\n",
        "  with torch.no_grad():\n",
        "    for X, y in dataloader:\n",
        "      X, y = X.to(device), y.to(device)\n",
        "      pred = model(X)\n",
        "      test_loss += loss_fn(pred, y).item()\n",
        "      correct += (pred.argmax(1) == y).type(torch.float).sum().item()\n",
        "  test_loss /= num_batches\n",
        "  correct /= size\n",
        "  print(f\"Test Error: \\n Accuracy: {(100*correct):>0.1f}, Avg Loss: {test_loss:>8f}\\n\")\n"
      ],
      "metadata": {
        "id": "iBVle2_DUqna"
      },
      "execution_count": 605,
      "outputs": []
    },
    {
      "cell_type": "code",
      "source": [
        "model_task1 = CNN(num_classes=6, hidden_size=512).to(device)\n",
        "\n",
        "loss_fn = nn.CrossEntropyLoss()\n",
        "optimizer = torch.optim.SGD(model_task1.parameters(), lr=0.01, momentum=0.9, weight_decay=5e-4)"
      ],
      "metadata": {
        "id": "iVQn8kUQvKCW"
      },
      "execution_count": 606,
      "outputs": []
    },
    {
      "cell_type": "code",
      "source": [
        "model_task1.classifier.out_features"
      ],
      "metadata": {
        "colab": {
          "base_uri": "https://localhost:8080/"
        },
        "id": "VcvQ9lA6qv4c",
        "outputId": "5e015501-f56e-4d26-deac-a3908f2a1515"
      },
      "execution_count": 607,
      "outputs": [
        {
          "output_type": "execute_result",
          "data": {
            "text/plain": [
              "6"
            ]
          },
          "metadata": {},
          "execution_count": 607
        }
      ]
    },
    {
      "cell_type": "code",
      "source": [
        "epochs = 3\n",
        "for t in range(epochs):\n",
        "  print(f\"Epoch {t+1}\\n---------------------------\")\n",
        "  train(train_dataloader_task1, model_task1, loss_fn, optimizer)\n",
        "  test(test_dataloader_task1, model_task1, loss_fn)\n",
        "print(\"Done!\")\n",
        "\n",
        "torch.save(model_task1.state_dict(), \"model_old.pth\")"
      ],
      "metadata": {
        "id": "os4-XrPyXB3Z",
        "colab": {
          "base_uri": "https://localhost:8080/"
        },
        "outputId": "e39736ca-b001-442c-9ae0-ccefedf65173"
      },
      "execution_count": 608,
      "outputs": [
        {
          "output_type": "stream",
          "name": "stdout",
          "text": [
            "Epoch 1\n",
            "---------------------------\n",
            "Loss: 1.780460,    64/36000\n",
            "Loss: 0.249530,  6464/36000\n",
            "Loss: 0.308725, 12864/36000\n",
            "Loss: 0.305284, 19264/36000\n",
            "Loss: 0.165172, 25664/36000\n",
            "Loss: 0.211944, 32064/36000\n",
            "Test Error: \n",
            " Accuracy: 92.7, Avg Loss: 0.200634\n",
            "\n",
            "Epoch 2\n",
            "---------------------------\n",
            "Loss: 0.160993,    64/36000\n",
            "Loss: 0.181258,  6464/36000\n",
            "Loss: 0.105811, 12864/36000\n",
            "Loss: 0.127520, 19264/36000\n",
            "Loss: 0.214479, 25664/36000\n",
            "Loss: 0.213127, 32064/36000\n",
            "Test Error: \n",
            " Accuracy: 92.8, Avg Loss: 0.198229\n",
            "\n",
            "Epoch 3\n",
            "---------------------------\n",
            "Loss: 0.154834,    64/36000\n",
            "Loss: 0.107329,  6464/36000\n",
            "Loss: 0.234791, 12864/36000\n",
            "Loss: 0.085211, 19264/36000\n",
            "Loss: 0.053493, 25664/36000\n",
            "Loss: 0.089896, 32064/36000\n",
            "Test Error: \n",
            " Accuracy: 93.4, Avg Loss: 0.194114\n",
            "\n",
            "Done!\n"
          ]
        }
      ]
    },
    {
      "cell_type": "code",
      "source": [
        "class ModifiedCNN(CNN):\n",
        "    def __init__(self, num_classes, hidden_size, new_hidden_size):\n",
        "        super(ModifiedCNN, self).__init__(num_classes=num_classes, hidden_size=hidden_size)\n",
        "        self.new_fc = nn.Linear(hidden_size, new_hidden_size)\n",
        "        self.relu = nn.ReLU()\n",
        "        self.dropout = nn.Dropout(p=0.5)\n",
        "        self.classifier = nn.Linear(new_hidden_size, num_classes)\n",
        "\n",
        "    def forward(self, x):\n",
        "        x = super().forward_features(x)\n",
        "        x = self.new_fc(x)\n",
        "        x = self.relu(x)\n",
        "        x = self.classifier(x)\n",
        "        return x"
      ],
      "metadata": {
        "id": "ZFcGPrF58n9y"
      },
      "execution_count": 609,
      "outputs": []
    },
    {
      "cell_type": "code",
      "source": [
        "model = ModifiedCNN(num_classes=10, hidden_size=512, new_hidden_size=512)"
      ],
      "metadata": {
        "id": "2ECtQDuyAuHh"
      },
      "execution_count": 610,
      "outputs": []
    },
    {
      "cell_type": "code",
      "source": [
        "model"
      ],
      "metadata": {
        "colab": {
          "base_uri": "https://localhost:8080/"
        },
        "id": "nKKuAPSZA3mZ",
        "outputId": "b350a5c7-0b08-4edc-92a3-91646dc2d223"
      },
      "execution_count": 611,
      "outputs": [
        {
          "output_type": "execute_result",
          "data": {
            "text/plain": [
              "ModifiedCNN(\n",
              "  (conv1): Conv2d(1, 16, kernel_size=(3, 3), stride=(1, 1), padding=(1, 1))\n",
              "  (relu1): ReLU()\n",
              "  (conv2): Conv2d(16, 32, kernel_size=(3, 3), stride=(1, 1), padding=(1, 1))\n",
              "  (relu2): ReLU()\n",
              "  (pool): MaxPool2d(kernel_size=2, stride=2, padding=0, dilation=1, ceil_mode=False)\n",
              "  (flatten): Flatten(start_dim=1, end_dim=-1)\n",
              "  (fc1): Linear(in_features=6272, out_features=512, bias=True)\n",
              "  (relu3): ReLU()\n",
              "  (classifier): Linear(in_features=512, out_features=10, bias=True)\n",
              "  (new_fc): Linear(in_features=512, out_features=512, bias=True)\n",
              "  (relu): ReLU()\n",
              "  (dropout): Dropout(p=0.5, inplace=False)\n",
              ")"
            ]
          },
          "metadata": {},
          "execution_count": 611
        }
      ]
    },
    {
      "cell_type": "markdown",
      "source": [
        "# LWF"
      ],
      "metadata": {
        "id": "1xnHT4FuNGVo"
      }
    },
    {
      "cell_type": "code",
      "source": [
        "model_task2 = CNN(num_classes=6, hidden_size=512).to(device)\n",
        "model_task1 = CNN(num_classes=6, hidden_size=512).to(device)\n",
        "\n",
        "model_task2.load_state_dict(torch.load(\"model_old.pth\"))\n",
        "model_task1.load_state_dict(torch.load(\"model_old.pth\"))"
      ],
      "metadata": {
        "colab": {
          "base_uri": "https://localhost:8080/"
        },
        "id": "RfxfQaRHCTIn",
        "outputId": "14cdc021-d393-44e2-fb74-092e4f854570"
      },
      "execution_count": 612,
      "outputs": [
        {
          "output_type": "execute_result",
          "data": {
            "text/plain": [
              "<All keys matched successfully>"
            ]
          },
          "metadata": {},
          "execution_count": 612
        }
      ]
    },
    {
      "cell_type": "code",
      "source": [
        "model_task2.classifier.weight"
      ],
      "metadata": {
        "colab": {
          "base_uri": "https://localhost:8080/"
        },
        "id": "4gguxiQzEQUf",
        "outputId": "86a5138a-e9f9-4d97-e432-e58754fe8d9b"
      },
      "execution_count": 613,
      "outputs": [
        {
          "output_type": "execute_result",
          "data": {
            "text/plain": [
              "Parameter containing:\n",
              "tensor([[-0.0420, -0.0886,  0.0622,  ...,  0.0946, -0.0232, -0.0075],\n",
              "        [-0.0529,  0.1091,  0.0897,  ..., -0.0259,  0.0137,  0.0191],\n",
              "        [-0.0006, -0.0483,  0.0094,  ..., -0.0634,  0.0197,  0.0135],\n",
              "        [-0.0516,  0.0060, -0.1399,  ..., -0.0296, -0.0193,  0.0175],\n",
              "        [ 0.1343, -0.0259, -0.0238,  ...,  0.0130, -0.0305,  0.0570],\n",
              "        [-0.1021,  0.0719, -0.0779,  ..., -0.0098,  0.0469,  0.0050]],\n",
              "       requires_grad=True)"
            ]
          },
          "metadata": {},
          "execution_count": 613
        }
      ]
    },
    {
      "cell_type": "code",
      "source": [
        "model_task2 = ModifiedCNN(num_classes=10, hidden_size=512, new_hidden_size=512)"
      ],
      "metadata": {
        "id": "s97QN3INCVSn"
      },
      "execution_count": 614,
      "outputs": []
    },
    {
      "cell_type": "code",
      "source": [
        "model_task2.classifier.weight"
      ],
      "metadata": {
        "colab": {
          "base_uri": "https://localhost:8080/"
        },
        "id": "E3-kLFCzEWyP",
        "outputId": "f03120aa-b01e-4bd3-ccf7-fe693a7a75c0"
      },
      "execution_count": 615,
      "outputs": [
        {
          "output_type": "execute_result",
          "data": {
            "text/plain": [
              "Parameter containing:\n",
              "tensor([[ 0.0296,  0.0304, -0.0359,  ..., -0.0186,  0.0120, -0.0285],\n",
              "        [-0.0273, -0.0371,  0.0219,  ..., -0.0137,  0.0055,  0.0087],\n",
              "        [-0.0288,  0.0023,  0.0200,  ...,  0.0004,  0.0245, -0.0188],\n",
              "        ...,\n",
              "        [ 0.0324,  0.0220, -0.0435,  ...,  0.0151, -0.0284,  0.0152],\n",
              "        [-0.0039,  0.0393,  0.0344,  ...,  0.0249,  0.0198,  0.0044],\n",
              "        [-0.0242, -0.0067, -0.0267,  ..., -0.0025, -0.0008, -0.0305]],\n",
              "       requires_grad=True)"
            ]
          },
          "metadata": {},
          "execution_count": 615
        }
      ]
    },
    {
      "cell_type": "code",
      "source": [
        "in_features = model_task1.classifier.in_features\n",
        "out_features = model_task1.classifier.out_features\n",
        "\n",
        "new_weights = torch.zeros_like(model_task2.classifier.weight)\n",
        "new_biases = torch.zeros_like(model_task2.classifier.bias)\n",
        "\n",
        "weight = model_task1.classifier.weight.data\n",
        "bias = model_task1.classifier.bias.data\n",
        "\n",
        "new_weights[:out_features, :] = weight\n",
        "new_biases[:out_features] = bias"
      ],
      "metadata": {
        "id": "S5OqVlx0Dm6D"
      },
      "execution_count": 616,
      "outputs": []
    },
    {
      "cell_type": "code",
      "source": [
        "model_task2.classifier.weight = nn.Parameter(new_weights)\n",
        "model_task2.classifier.bias = nn.Parameter(new_biases)"
      ],
      "metadata": {
        "id": "jzAMjjeAQMyS"
      },
      "execution_count": 617,
      "outputs": []
    },
    {
      "cell_type": "code",
      "source": [
        "model_task2.classifier.weight"
      ],
      "metadata": {
        "colab": {
          "base_uri": "https://localhost:8080/"
        },
        "id": "rnP-icNWEJjw",
        "outputId": "aa6fdc32-673b-402d-8e2c-def7b77d391e"
      },
      "execution_count": 618,
      "outputs": [
        {
          "output_type": "execute_result",
          "data": {
            "text/plain": [
              "Parameter containing:\n",
              "tensor([[-0.0420, -0.0886,  0.0622,  ...,  0.0946, -0.0232, -0.0075],\n",
              "        [-0.0529,  0.1091,  0.0897,  ..., -0.0259,  0.0137,  0.0191],\n",
              "        [-0.0006, -0.0483,  0.0094,  ..., -0.0634,  0.0197,  0.0135],\n",
              "        ...,\n",
              "        [ 0.0000,  0.0000,  0.0000,  ...,  0.0000,  0.0000,  0.0000],\n",
              "        [ 0.0000,  0.0000,  0.0000,  ...,  0.0000,  0.0000,  0.0000],\n",
              "        [ 0.0000,  0.0000,  0.0000,  ...,  0.0000,  0.0000,  0.0000]],\n",
              "       requires_grad=True)"
            ]
          },
          "metadata": {},
          "execution_count": 618
        }
      ]
    },
    {
      "cell_type": "code",
      "source": [
        "model_task2 = model_task2.to(device)\n",
        "print(\"New head numbers: \", model_task2.classifier.out_features)"
      ],
      "metadata": {
        "id": "ZCbEgdnwNBSC",
        "colab": {
          "base_uri": "https://localhost:8080/"
        },
        "outputId": "52f5f10d-c658-430a-c7db-032ddd1b7e4c"
      },
      "execution_count": 619,
      "outputs": [
        {
          "output_type": "stream",
          "name": "stdout",
          "text": [
            "New head numbers:  10\n"
          ]
        }
      ]
    },
    {
      "cell_type": "code",
      "source": [
        "for param in model_task1.parameters():\n",
        "  param.requires_grad = False"
      ],
      "metadata": {
        "id": "juo2AE9aQzJr"
      },
      "execution_count": 620,
      "outputs": []
    },
    {
      "cell_type": "code",
      "source": [
        "# Initially freeze all the layers except for classifier\n",
        "for name, param in model_task2.named_parameters():\n",
        "    if name not in ['new_fc.weight', 'new_fc.bias']:\n",
        "        param.requires_grad = False"
      ],
      "metadata": {
        "id": "nPEBysFpSD28"
      },
      "execution_count": 621,
      "outputs": []
    },
    {
      "cell_type": "code",
      "source": [
        "for name, _ in model_task2.named_parameters():\n",
        "    print(name)"
      ],
      "metadata": {
        "colab": {
          "base_uri": "https://localhost:8080/"
        },
        "id": "N1wZkydiwoB6",
        "outputId": "32c079ad-e364-4e31-8435-5979ae368b89"
      },
      "execution_count": 622,
      "outputs": [
        {
          "output_type": "stream",
          "name": "stdout",
          "text": [
            "conv1.weight\n",
            "conv1.bias\n",
            "conv2.weight\n",
            "conv2.bias\n",
            "fc1.weight\n",
            "fc1.bias\n",
            "classifier.weight\n",
            "classifier.bias\n",
            "new_fc.weight\n",
            "new_fc.bias\n"
          ]
        }
      ]
    },
    {
      "cell_type": "markdown",
      "source": [
        "Changes in training and testing"
      ],
      "metadata": {
        "id": "GsAe0iSPTSiq"
      }
    },
    {
      "cell_type": "code",
      "source": [
        "def train(alpha, T):\n",
        "    size = len(train_dataloader_task2.dataset)\n",
        "    # We set net_new to evaluation mode to prevent it from being updated\n",
        "    # while computing the distillation loss from the old model\n",
        "\n",
        "    model_task2.train()\n",
        "    for batch, (X, y) in enumerate(train_dataloader_task2):\n",
        "        X, y = X.to(device), y.to(device)\n",
        "\n",
        "        outputs = model_task2(X)\n",
        "        soft_y = model_task1(X)\n",
        "\n",
        "        loss1 = loss_fn(outputs, y)\n",
        "\n",
        "        outputs_S = nn.functional.softmax(outputs[:, :out_features] / T, dim=1)\n",
        "        outputs_T = nn.functional.softmax(soft_y[:, :out_features] / T, dim=1)\n",
        "\n",
        "        loss2 = outputs_T.mul(-1 * torch.log(outputs_S))\n",
        "        loss2 = loss2.sum(1)\n",
        "        loss2 = loss2.mean() * T * T\n",
        "\n",
        "        loss = loss1 + alpha * loss2\n",
        "\n",
        "        loss.backward(retain_graph=True)\n",
        "        optimizer.step()\n",
        "        optimizer.zero_grad()\n",
        "\n",
        "        if batch % 100 == 0:\n",
        "            loss, current = loss.item(), (batch+1) * len(X)\n",
        "            print(f\"Loss: {loss:>7f}, {current:>5d}/{size:>5d}\")\n"
      ],
      "metadata": {
        "id": "Tqex4EciTVVN"
      },
      "execution_count": 623,
      "outputs": []
    },
    {
      "cell_type": "code",
      "source": [
        "def test(alpha, T):\n",
        "  size = len(test_dataloader_task2.dataset)\n",
        "  num_batches = len(test_dataloader_task2)\n",
        "  model_task2.eval()\n",
        "\n",
        "  test_loss, correct = 0, 0\n",
        "  with torch.no_grad():\n",
        "    for X, y in test_dataloader_task2:\n",
        "      X, y = X.to(device), y.to(device)\n",
        "\n",
        "      outputs = model_task2(X)\n",
        "      soft_y = model_task1(X)\n",
        "\n",
        "      loss1 = loss_fn(outputs, y)\n",
        "\n",
        "      outputs_S = nn.functional.softmax(outputs[:, :out_features] / T, dim=1)\n",
        "      outputs_T = nn.functional.softmax(soft_y[:, :out_features] / T, dim=1)\n",
        "\n",
        "      loss2 = outputs_T.mul(-1 * torch.log(outputs_S))\n",
        "      loss2 = loss2.sum(1)\n",
        "      loss2 = loss2.mean() * T * T\n",
        "\n",
        "      loss = loss1 * alpha + loss2 * (1 - alpha)\n",
        "\n",
        "      test_loss += loss.item()\n",
        "      _, predicted = outputs.max(1)\n",
        "      correct += predicted.eq(y).sum().item()\n",
        "      # correct += (pred.argmax(1) == y).type(torch.float).sum().item()\n",
        "  test_loss /= num_batches\n",
        "  correct /= size\n",
        "  print(f\"Test Error: \\n Accuracy: {(100*correct):>0.1f}, Avg Loss: {test_loss:>8f}\")\n"
      ],
      "metadata": {
        "id": "f31nqZx2WRdr"
      },
      "execution_count": 624,
      "outputs": []
    },
    {
      "cell_type": "code",
      "source": [
        "def val(epoch):\n",
        "    model_task2.eval()\n",
        "    correct, total = 0, 0\n",
        "    with torch.no_grad():\n",
        "        for batch, (X, y) in enumerate(test_dataloader_task1):\n",
        "            X, y = X.to(device), y.to(device)\n",
        "            outputs = model_task2(X)\n",
        "            _, predicted_old = outputs.max(1)\n",
        "            total += len(y)\n",
        "            correct += predicted_old.eq(y).sum().item()\n",
        "        print(f\"Validation Acc: {100. * correct / total}\\n\")"
      ],
      "metadata": {
        "id": "DbtfMR9VJW0Z"
      },
      "execution_count": 625,
      "outputs": []
    },
    {
      "cell_type": "code",
      "source": [
        "T = 2\n",
        "alpha = 0.9\n",
        "loss_fn = nn.CrossEntropyLoss()\n",
        "\n",
        "optimizer = torch.optim.SGD(model_task2.parameters(), lr=0.0001, momentum=0.9, weight_decay=5e-4)\n",
        "\n",
        "for epoch in range(5):\n",
        "    print(f\"Epoch {epoch+1}: ----------------------\")\n",
        "    if epoch > 0:\n",
        "        for param in model_task2.parameters():\n",
        "            param.requires_grad = True\n",
        "        optimizer = torch.optim.SGD(model_task2.parameters(), lr=0.0001, momentum=0.9)\n",
        "    train(alpha, T)\n",
        "    test(alpha, T)\n",
        "    val(epoch)"
      ],
      "metadata": {
        "id": "tJwIbbRBXj-C",
        "colab": {
          "base_uri": "https://localhost:8080/"
        },
        "outputId": "9dac61d4-0613-419d-8ebb-d42f2040ec87"
      },
      "execution_count": 626,
      "outputs": [
        {
          "output_type": "stream",
          "name": "stdout",
          "text": [
            "Epoch 1: ----------------------\n",
            "Loss: 9.069983,    64/24000\n",
            "Loss: 8.001513,  6464/24000\n",
            "Loss: 7.533881, 12864/24000\n",
            "Loss: 6.879340, 19264/24000\n",
            "Test Error: \n",
            " Accuracy: 0.1, Avg Loss: 2.552623\n",
            "Validation Acc: 32.46666666666667\n",
            "\n",
            "Epoch 2: ----------------------\n",
            "Loss: 6.795416,    64/24000\n",
            "Loss: 5.119720,  6464/24000\n",
            "Loss: 4.309440, 12864/24000\n",
            "Loss: 4.222644, 19264/24000\n",
            "Test Error: \n",
            " Accuracy: 87.8, Avg Loss: 1.057320\n",
            "Validation Acc: 0.0\n",
            "\n",
            "Epoch 3: ----------------------\n",
            "Loss: 4.065773,    64/24000\n",
            "Loss: 3.606124,  6464/24000\n",
            "Loss: 3.684023, 12864/24000\n",
            "Loss: 2.892900, 19264/24000\n",
            "Test Error: \n",
            " Accuracy: 92.2, Avg Loss: 0.699389\n",
            "Validation Acc: 0.0\n",
            "\n",
            "Epoch 4: ----------------------\n",
            "Loss: 3.007957,    64/24000\n",
            "Loss: 3.102300,  6464/24000\n",
            "Loss: 3.289531, 12864/24000\n",
            "Loss: 2.938645, 19264/24000\n",
            "Test Error: \n",
            " Accuracy: 93.2, Avg Loss: 0.559361\n",
            "Validation Acc: 0.0\n",
            "\n",
            "Epoch 5: ----------------------\n",
            "Loss: 2.850488,    64/24000\n",
            "Loss: 2.873625,  6464/24000\n",
            "Loss: 2.997895, 12864/24000\n",
            "Loss: 3.106426, 19264/24000\n",
            "Test Error: \n",
            " Accuracy: 93.9, Avg Loss: 0.502844\n",
            "Validation Acc: 0.0\n",
            "\n"
          ]
        }
      ]
    }
  ]
}