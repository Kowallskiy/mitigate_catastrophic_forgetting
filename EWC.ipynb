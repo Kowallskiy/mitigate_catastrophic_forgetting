{
  "cells": [
    {
      "cell_type": "markdown",
      "source": [
        "# Elastic Weight Consolidation"
      ],
      "metadata": {
        "id": "HAmntSuwF2vr"
      }
    },
    {
      "cell_type": "code",
      "execution_count": 2,
      "metadata": {
        "id": "b2NSA-U_0DhS"
      },
      "outputs": [],
      "source": [
        "import torch\n",
        "import torchvision\n",
        "from torch import nn\n",
        "from torch.utils.data import DataLoader\n",
        "from torchvision import datasets\n",
        "from torchvision.transforms import ToTensor, Normalize\n",
        "from torch.utils.data import Subset"
      ]
    },
    {
      "cell_type": "markdown",
      "source": [
        "## Data Preparation"
      ],
      "metadata": {
        "id": "GCMmO5EwGAZC"
      }
    },
    {
      "cell_type": "code",
      "source": [
        "transform = torchvision.transforms.Compose([ToTensor(), Normalize((0.5), (0.5))])\n",
        "\n",
        "train_dataset = datasets.FashionMNIST('./data', train=True, download=True, transform=transform)\n",
        "test_dataset = datasets.FashionMNIST('./data', train=False, transform=transform)"
      ],
      "metadata": {
        "id": "8Y-slf1KBtep",
        "colab": {
          "base_uri": "https://localhost:8080/"
        },
        "outputId": "dae4e0a0-d8cb-44cb-e007-7b166a1275c2"
      },
      "execution_count": 3,
      "outputs": [
        {
          "output_type": "stream",
          "name": "stdout",
          "text": [
            "Downloading http://fashion-mnist.s3-website.eu-central-1.amazonaws.com/train-images-idx3-ubyte.gz\n",
            "Downloading http://fashion-mnist.s3-website.eu-central-1.amazonaws.com/train-images-idx3-ubyte.gz to ./data/FashionMNIST/raw/train-images-idx3-ubyte.gz\n"
          ]
        },
        {
          "output_type": "stream",
          "name": "stderr",
          "text": [
            "100%|██████████| 26421880/26421880 [00:01<00:00, 16215374.24it/s]\n"
          ]
        },
        {
          "output_type": "stream",
          "name": "stdout",
          "text": [
            "Extracting ./data/FashionMNIST/raw/train-images-idx3-ubyte.gz to ./data/FashionMNIST/raw\n",
            "\n",
            "Downloading http://fashion-mnist.s3-website.eu-central-1.amazonaws.com/train-labels-idx1-ubyte.gz\n",
            "Downloading http://fashion-mnist.s3-website.eu-central-1.amazonaws.com/train-labels-idx1-ubyte.gz to ./data/FashionMNIST/raw/train-labels-idx1-ubyte.gz\n"
          ]
        },
        {
          "output_type": "stream",
          "name": "stderr",
          "text": [
            "100%|██████████| 29515/29515 [00:00<00:00, 273964.31it/s]\n"
          ]
        },
        {
          "output_type": "stream",
          "name": "stdout",
          "text": [
            "Extracting ./data/FashionMNIST/raw/train-labels-idx1-ubyte.gz to ./data/FashionMNIST/raw\n",
            "\n",
            "Downloading http://fashion-mnist.s3-website.eu-central-1.amazonaws.com/t10k-images-idx3-ubyte.gz\n",
            "Downloading http://fashion-mnist.s3-website.eu-central-1.amazonaws.com/t10k-images-idx3-ubyte.gz to ./data/FashionMNIST/raw/t10k-images-idx3-ubyte.gz\n"
          ]
        },
        {
          "output_type": "stream",
          "name": "stderr",
          "text": [
            "100%|██████████| 4422102/4422102 [00:00<00:00, 4978216.55it/s]\n"
          ]
        },
        {
          "output_type": "stream",
          "name": "stdout",
          "text": [
            "Extracting ./data/FashionMNIST/raw/t10k-images-idx3-ubyte.gz to ./data/FashionMNIST/raw\n",
            "\n",
            "Downloading http://fashion-mnist.s3-website.eu-central-1.amazonaws.com/t10k-labels-idx1-ubyte.gz\n",
            "Downloading http://fashion-mnist.s3-website.eu-central-1.amazonaws.com/t10k-labels-idx1-ubyte.gz to ./data/FashionMNIST/raw/t10k-labels-idx1-ubyte.gz\n"
          ]
        },
        {
          "output_type": "stream",
          "name": "stderr",
          "text": [
            "100%|██████████| 5148/5148 [00:00<00:00, 5935205.33it/s]"
          ]
        },
        {
          "output_type": "stream",
          "name": "stdout",
          "text": [
            "Extracting ./data/FashionMNIST/raw/t10k-labels-idx1-ubyte.gz to ./data/FashionMNIST/raw\n",
            "\n"
          ]
        },
        {
          "output_type": "stream",
          "name": "stderr",
          "text": [
            "\n"
          ]
        }
      ]
    },
    {
      "cell_type": "code",
      "source": [
        "# Splitting datasets for two tasks\n",
        "train_dataset_task1 = Subset(train_dataset, [i for i in range(len(train_dataset)) if train_dataset.targets[i] <= 5])\n",
        "train_dataset_task2 = Subset(train_dataset, [i for i in range(len(train_dataset)) if train_dataset.targets[i] > 5])\n",
        "test_dataset_task1 = Subset(test_dataset, [i for i in range(len(test_dataset)) if test_dataset.targets[i] <= 5])\n",
        "test_dataset_task2 = Subset(test_dataset, [i for i in range(len(test_dataset)) if test_dataset.targets[i] > 5])"
      ],
      "metadata": {
        "id": "0HCo5OQKCscZ"
      },
      "execution_count": 4,
      "outputs": []
    },
    {
      "cell_type": "code",
      "execution_count": 5,
      "metadata": {
        "colab": {
          "base_uri": "https://localhost:8080/"
        },
        "id": "rUz-SUDKsZuX",
        "outputId": "40f47f89-a139-439e-b0b8-4956e8817046"
      },
      "outputs": [
        {
          "output_type": "stream",
          "name": "stdout",
          "text": [
            "First: {0, 1, 2, 3, 4, 5}\n",
            "Second: {8, 9, 6, 7}\n"
          ]
        }
      ],
      "source": [
        "unique_labels_1 = set()\n",
        "unique_labels_2 = set()\n",
        "\n",
        "for _, target in train_dataset_task1:\n",
        "    unique_labels_1.add(target)\n",
        "\n",
        "for _, target in train_dataset_task2:\n",
        "    unique_labels_2.add(target)\n",
        "\n",
        "print(f\"First: {unique_labels_1}\")\n",
        "print(f\"Second: {unique_labels_2}\")"
      ]
    },
    {
      "cell_type": "code",
      "execution_count": 6,
      "metadata": {
        "colab": {
          "base_uri": "https://localhost:8080/"
        },
        "id": "1_J6o_FR2Mh8",
        "outputId": "9a420624-684e-4112-d5a2-4b8e8542089e"
      },
      "outputs": [
        {
          "output_type": "stream",
          "name": "stdout",
          "text": [
            "Shape of X [N, C, H, W]: torch.Size([64, 1, 28, 28])\n",
            "SHape of y: torch.Size([64]), dtype: torch.int64\n"
          ]
        }
      ],
      "source": [
        "train_dataloader_task1 = DataLoader(train_dataset_task1, batch_size=64, shuffle=True)\n",
        "test_dataloader_task1 = DataLoader(test_dataset_task1, batch_size=256, shuffle=True)\n",
        "\n",
        "for X, y in train_dataloader_task1:\n",
        "  print(f\"Shape of X [N, C, H, W]: {X.shape}\")\n",
        "  print(f\"SHape of y: {y.shape}, dtype: {y.dtype}\")\n",
        "  break"
      ]
    },
    {
      "cell_type": "code",
      "execution_count": 7,
      "metadata": {
        "id": "OFGpnxZq2NYt"
      },
      "outputs": [],
      "source": [
        "train_dataloader_task2 = DataLoader(train_dataset_task2, batch_size=64, shuffle=True)\n",
        "test_dataloader_task2 = DataLoader(test_dataset_task2, batch_size=256, shuffle=True)"
      ]
    },
    {
      "cell_type": "code",
      "execution_count": 8,
      "metadata": {
        "colab": {
          "base_uri": "https://localhost:8080/"
        },
        "id": "F7raJ2RC2Toq",
        "outputId": "bed5d8d1-fe08-44e2-a8ef-ba4c3d80321b"
      },
      "outputs": [
        {
          "output_type": "stream",
          "name": "stdout",
          "text": [
            "Using cuda device\n"
          ]
        }
      ],
      "source": [
        "device = ('cuda' if torch.cuda.is_available() else 'cpu')\n",
        "print(f\"Using {device} device\")"
      ]
    },
    {
      "cell_type": "markdown",
      "source": [
        "## NN Architecture"
      ],
      "metadata": {
        "id": "qAUGHkrmGG_6"
      }
    },
    {
      "cell_type": "code",
      "execution_count": 9,
      "metadata": {
        "id": "C5nQoXPk2Wbo"
      },
      "outputs": [],
      "source": [
        "class NeuralNetwork(nn.Module):\n",
        "    def __init__(self, num_classes=10, hidden_size=512):\n",
        "        super(NeuralNetwork, self).__init__()\n",
        "        self.flatten = nn.Flatten()\n",
        "\n",
        "        self.fc1 = nn.Linear(28*28, hidden_size)\n",
        "        self.relu1 = nn.ReLU()\n",
        "        self.fc2 = nn.Linear(hidden_size, hidden_size)\n",
        "        self.relu2 = nn.ReLU()\n",
        "        self.classifier = nn.Linear(hidden_size, num_classes)\n",
        "\n",
        "        self._initialize_weights()\n",
        "\n",
        "    def _initialize_weights(self):\n",
        "        for m in self.modules():\n",
        "            if isinstance(m, nn.Linear):\n",
        "                nn.init.kaiming_normal_(m.weight, nonlinearity='sigmoid')\n",
        "            elif isinstance(m, nn.Conv2d):\n",
        "                nn.init.kaiming_normal_(m.weight, nonlinearity='relu')\n",
        "\n",
        "    def forward(self, x):\n",
        "        x = self.flatten(x)\n",
        "        x = self.fc1(x)\n",
        "        x = self.relu1(x)\n",
        "        x = self.fc2(x)\n",
        "        x = self.relu2(x)\n",
        "        logits = self.classifier(x)\n",
        "\n",
        "        return logits"
      ]
    },
    {
      "cell_type": "code",
      "execution_count": 10,
      "metadata": {
        "id": "tyhb4Zo4230I"
      },
      "outputs": [],
      "source": [
        "def train(dataloader, model, loss_fn, optimizer):\n",
        "  size = len(dataloader.dataset)\n",
        "  model.train()\n",
        "  for batch, (X, y) in enumerate(dataloader):\n",
        "    X, y = X.to(device), y.to(device)\n",
        "    pred = model(X)\n",
        "    loss = loss_fn(pred, y)\n",
        "\n",
        "    loss.backward()\n",
        "    optimizer.step()\n",
        "    optimizer.zero_grad()\n",
        "\n",
        "    if batch % 100 == 0:\n",
        "      loss, current = loss.item(), (batch+1) * len(X)\n",
        "      print(f\"Loss: {loss:>7f}, {current:>5d}/{size:>5d}\")"
      ]
    },
    {
      "cell_type": "markdown",
      "source": [
        "## Training on Task 1"
      ],
      "metadata": {
        "id": "uYoJUNJQGL7b"
      }
    },
    {
      "cell_type": "code",
      "execution_count": 11,
      "metadata": {
        "id": "hZThNdfT26Kg"
      },
      "outputs": [],
      "source": [
        "def test(dataloader, model, loss_fn):\n",
        "  size = len(dataloader.dataset)\n",
        "  num_batches = len(dataloader)\n",
        "  model.eval()\n",
        "\n",
        "  test_loss, correct = 0, 0\n",
        "  with torch.no_grad():\n",
        "    for X, y in dataloader:\n",
        "      X, y = X.to(device), y.to(device)\n",
        "      pred = model(X)\n",
        "      test_loss += loss_fn(pred, y).item()\n",
        "      correct += (pred.argmax(1) == y).type(torch.float).sum().item()\n",
        "  test_loss /= num_batches\n",
        "  correct /= size\n",
        "  print(f\"Test Error: \\n Accuracy: {(100*correct):>0.1f}, Avg Loss: {test_loss:>8f}\\n\")"
      ]
    },
    {
      "cell_type": "code",
      "execution_count": 12,
      "metadata": {
        "id": "O8cy0wv-28X4"
      },
      "outputs": [],
      "source": [
        "model_task1 = NeuralNetwork(num_classes=10, hidden_size=512).to(device)\n",
        "\n",
        "loss_fn = nn.CrossEntropyLoss()\n",
        "optimizer = torch.optim.SGD(model_task1.parameters(), lr=0.01, momentum=0.9, weight_decay=5e-4)"
      ]
    },
    {
      "cell_type": "code",
      "execution_count": 13,
      "metadata": {
        "colab": {
          "base_uri": "https://localhost:8080/"
        },
        "id": "nO9q7xFU4UUI",
        "outputId": "74be2399-45a3-4a4c-830e-21eb1a88af3e"
      },
      "outputs": [
        {
          "output_type": "stream",
          "name": "stdout",
          "text": [
            "Epoch 1\n",
            "---------------------------\n",
            "Loss: 2.251544,    64/36000\n",
            "Loss: 0.337350,  6464/36000\n",
            "Loss: 0.355125, 12864/36000\n",
            "Loss: 0.299372, 19264/36000\n",
            "Loss: 0.337214, 25664/36000\n",
            "Loss: 0.191454, 32064/36000\n",
            "Test Error: \n",
            " Accuracy: 88.8, Avg Loss: 0.291615\n",
            "\n",
            "Epoch 2\n",
            "---------------------------\n",
            "Loss: 0.264742,    64/36000\n",
            "Loss: 0.221406,  6464/36000\n",
            "Loss: 0.263498, 12864/36000\n",
            "Loss: 0.315568, 19264/36000\n",
            "Loss: 0.139890, 25664/36000\n",
            "Loss: 0.131490, 32064/36000\n",
            "Test Error: \n",
            " Accuracy: 90.9, Avg Loss: 0.261338\n",
            "\n",
            "Epoch 3\n",
            "---------------------------\n",
            "Loss: 0.154787,    64/36000\n",
            "Loss: 0.326340,  6464/36000\n",
            "Loss: 0.217241, 12864/36000\n",
            "Loss: 0.223733, 19264/36000\n",
            "Loss: 0.183263, 25664/36000\n",
            "Loss: 0.182134, 32064/36000\n",
            "Test Error: \n",
            " Accuracy: 91.0, Avg Loss: 0.246638\n",
            "\n",
            "Epoch 4\n",
            "---------------------------\n",
            "Loss: 0.447313,    64/36000\n",
            "Loss: 0.151534,  6464/36000\n",
            "Loss: 0.176930, 12864/36000\n",
            "Loss: 0.279525, 19264/36000\n",
            "Loss: 0.197010, 25664/36000\n",
            "Loss: 0.183053, 32064/36000\n",
            "Test Error: \n",
            " Accuracy: 91.7, Avg Loss: 0.234753\n",
            "\n",
            "Epoch 5\n",
            "---------------------------\n",
            "Loss: 0.150597,    64/36000\n",
            "Loss: 0.129843,  6464/36000\n",
            "Loss: 0.171028, 12864/36000\n",
            "Loss: 0.154134, 19264/36000\n",
            "Loss: 0.138148, 25664/36000\n",
            "Loss: 0.141615, 32064/36000\n",
            "Test Error: \n",
            " Accuracy: 90.3, Avg Loss: 0.258843\n",
            "\n",
            "Done!\n"
          ]
        }
      ],
      "source": [
        "epochs = 5\n",
        "for t in range(epochs):\n",
        "  print(f\"Epoch {t+1}\\n---------------------------\")\n",
        "  train(train_dataloader_task1, model_task1, loss_fn, optimizer)\n",
        "  test(test_dataloader_task1, model_task1, loss_fn)\n",
        "print(\"Done!\")"
      ]
    },
    {
      "cell_type": "code",
      "execution_count": 14,
      "metadata": {
        "id": "RZmhDHNfIypc"
      },
      "outputs": [],
      "source": [
        "def val(dataloader, model):\n",
        "    size = len(dataloader.dataset)\n",
        "    model.eval()\n",
        "\n",
        "    correct = 0\n",
        "    with torch.no_grad():\n",
        "        for X, y in dataloader:\n",
        "            X, y = X.to(device), y.to(device)\n",
        "            pred = model(X)\n",
        "            correct += (pred.argmax(1) == y).type(torch.float).sum().item()\n",
        "    correct /= size\n",
        "    print(f\"Test Error: \\n Accuracy: {(100*correct):>0.1f}\\n\")"
      ]
    },
    {
      "cell_type": "code",
      "execution_count": 15,
      "metadata": {
        "colab": {
          "base_uri": "https://localhost:8080/"
        },
        "id": "_50xg7ygJGMA",
        "outputId": "d37a8e8b-3e18-447f-df97-2f638e7228cf"
      },
      "outputs": [
        {
          "output_type": "stream",
          "name": "stdout",
          "text": [
            "Test Error: \n",
            " Accuracy: 90.3\n",
            "\n"
          ]
        }
      ],
      "source": [
        "val(test_dataloader_task1, model_task1)"
      ]
    },
    {
      "cell_type": "markdown",
      "metadata": {
        "id": "U2xq-SiG4Uvg"
      },
      "source": [
        "________"
      ]
    },
    {
      "cell_type": "markdown",
      "source": [
        "## Fisher Matrix Calculation"
      ],
      "metadata": {
        "id": "33u6dRTuGutx"
      }
    },
    {
      "cell_type": "code",
      "source": [
        "from copy import deepcopy\n",
        "\n",
        "def get_fisher_diag(model, dataloader, params, empirical=False):\n",
        "    fisher = {}\n",
        "    params_dict = dict(params)\n",
        "    for n, p in deepcopy(params_dict).items():\n",
        "        p.data.zero_()\n",
        "        fisher[n] = p.data.clone().detach().requires_grad_()\n",
        "\n",
        "    model.eval()\n",
        "\n",
        "    for input, gt_label in dataloader:\n",
        "        input, gt_label = input.to(device), gt_label.to(device)\n",
        "        model.zero_grad()\n",
        "        output = model(input)\n",
        "\n",
        "        if empirical:\n",
        "            label = output.max(1)[1]\n",
        "        else:\n",
        "            label = gt_label\n",
        "\n",
        "        # label = gt_label.repeat(output.size(0))\n",
        "        negloglikelihood = torch.nn.functional.nll_loss(torch.nn.functional.log_softmax(output, dim=1), label)\n",
        "        negloglikelihood.backward()\n",
        "\n",
        "        for n, p in model.named_parameters():\n",
        "            fisher[n].data += p.grad.data ** 2 / len(dataloader.dataset)\n",
        "\n",
        "    fisher = {n: p for n, p in fisher.items()}\n",
        "    return fisher\n",
        "\n",
        "\n",
        "def get_ewc_loss(model, fisher, p_old):\n",
        "    loss = 0\n",
        "    for n, p in model.named_parameters():\n",
        "        _loss = fisher[n] * (p - p_old[n]) ** 2\n",
        "        loss += _loss.sum()\n",
        "    return loss"
      ],
      "metadata": {
        "id": "SMhVG42AGgu2"
      },
      "execution_count": 16,
      "outputs": []
    },
    {
      "cell_type": "markdown",
      "source": [
        "## Training on Task 2"
      ],
      "metadata": {
        "id": "8PLipIonHA_z"
      }
    },
    {
      "cell_type": "code",
      "source": [
        "model_task2 = model_task1"
      ],
      "metadata": {
        "id": "3h2xatAde04F"
      },
      "execution_count": 17,
      "outputs": []
    },
    {
      "cell_type": "code",
      "execution_count": 18,
      "metadata": {
        "id": "RLlF7JXB57n4"
      },
      "outputs": [],
      "source": [
        "model_task2.to(device)\n",
        "\n",
        "ewc_lambda = 1_000_000\n",
        "\n",
        "fisher_matrix = get_fisher_diag(model_task2, train_dataloader_task1, model_task2.named_parameters())\n",
        "prev_params = {n: p.data.clone() for n, p in model_task2.named_parameters()}\n",
        "\n",
        "loss_fn = nn.CrossEntropyLoss()\n",
        "optimizer = torch.optim.SGD(model_task2.parameters(), lr=0.001, momentum=0.9)"
      ]
    },
    {
      "cell_type": "code",
      "execution_count": 19,
      "metadata": {
        "id": "k9cHcxAN3s3Q"
      },
      "outputs": [],
      "source": [
        "def train(dataloader, model, loss_fn, optimizer, fisher_matrix, prev_params):\n",
        "    model.train()\n",
        "    size = len(dataloader.dataset)\n",
        "    for batch, (X, y) in enumerate(dataloader):\n",
        "        X, y = X.to(device), y.to(device)\n",
        "\n",
        "        pred = model(X)\n",
        "\n",
        "        # Original loss\n",
        "        ce_loss = loss_fn(pred, y)\n",
        "\n",
        "        # EWC loss\n",
        "        ewc_loss = get_ewc_loss(model, fisher_matrix, prev_params)\n",
        "\n",
        "        loss = ce_loss + ewc_lambda * ewc_loss\n",
        "\n",
        "        loss.backward()\n",
        "        optimizer.step()\n",
        "        optimizer.zero_grad()\n",
        "\n",
        "        if batch % 100 == 0:\n",
        "            loss, current = loss.item(), (batch+1)*len(X)\n",
        "            print(f\"Loss: {loss:>7f}, {current:>5d}/{size:>5d}\")"
      ]
    },
    {
      "cell_type": "code",
      "execution_count": 20,
      "metadata": {
        "id": "YOE0I97T8HAH"
      },
      "outputs": [],
      "source": [
        "def val(dataloader, model):\n",
        "    size = len(dataloader.dataset)\n",
        "    model.eval()\n",
        "\n",
        "    correct = 0\n",
        "    with torch.no_grad():\n",
        "        for X, y in dataloader:\n",
        "            X, y = X.to(device), y.to(device)\n",
        "            pred = model(X)\n",
        "            _, predicted_old = pred.max(1)\n",
        "            print(torch.unique(predicted_old))\n",
        "            correct += (pred.argmax(1) == y).type(torch.float).sum().item()\n",
        "    correct /= size\n",
        "    print(f\"Validation Accuracy: {(100*correct):>0.1f}\\n\")"
      ]
    },
    {
      "cell_type": "code",
      "execution_count": 21,
      "metadata": {
        "colab": {
          "base_uri": "https://localhost:8080/"
        },
        "id": "qv-BzHy78l06",
        "outputId": "26463e85-1e7b-478c-d13c-a7677fc2b8f2"
      },
      "outputs": [
        {
          "output_type": "stream",
          "name": "stdout",
          "text": [
            "Epoch 1: ----------------------\n",
            "Loss: 12.328086,    64/24000\n",
            "Loss: 0.617575,  6464/24000\n",
            "Loss: 0.392870, 12864/24000\n",
            "Loss: 0.258788, 19264/24000\n",
            "Test Error: \n",
            " Accuracy: 93.9, Avg Loss: 0.185084\n",
            "\n",
            "Done!\n"
          ]
        }
      ],
      "source": [
        "for epoch in range(1):\n",
        "    print(f\"Epoch {epoch+1}: ----------------------\")\n",
        "    train(train_dataloader_task2, model_task2, loss_fn, optimizer, fisher_matrix, prev_params)\n",
        "    test(test_dataloader_task2, model_task2, loss_fn)\n",
        "print(\"Done!\")"
      ]
    },
    {
      "cell_type": "code",
      "execution_count": 22,
      "metadata": {
        "colab": {
          "base_uri": "https://localhost:8080/"
        },
        "id": "1_oObVs6s35e",
        "outputId": "f9d24af9-b22a-4f10-e9bb-368f8902514d"
      },
      "outputs": [
        {
          "output_type": "stream",
          "name": "stdout",
          "text": [
            "tensor([0, 1, 3, 6, 7, 8, 9], device='cuda:0')\n",
            "tensor([0, 1, 3, 6, 7, 8, 9], device='cuda:0')\n",
            "tensor([0, 1, 4, 6, 7, 8, 9], device='cuda:0')\n",
            "tensor([0, 1, 6, 7, 8, 9], device='cuda:0')\n",
            "tensor([1, 6, 7, 8, 9], device='cuda:0')\n",
            "tensor([0, 1, 6, 7, 8, 9], device='cuda:0')\n",
            "tensor([0, 1, 3, 6, 7, 8, 9], device='cuda:0')\n",
            "tensor([1, 6, 7, 8, 9], device='cuda:0')\n",
            "tensor([0, 1, 3, 6, 7, 8, 9], device='cuda:0')\n",
            "tensor([1, 6, 7, 8, 9], device='cuda:0')\n",
            "tensor([0, 1, 3, 4, 6, 7, 8, 9], device='cuda:0')\n",
            "tensor([0, 1, 6, 7, 8, 9], device='cuda:0')\n",
            "tensor([0, 1, 2, 6, 7, 8, 9], device='cuda:0')\n",
            "tensor([1, 3, 6, 7, 8, 9], device='cuda:0')\n",
            "tensor([0, 1, 4, 6, 7, 8, 9], device='cuda:0')\n",
            "tensor([0, 1, 6, 7, 8, 9], device='cuda:0')\n",
            "tensor([0, 1, 3, 6, 7, 8, 9], device='cuda:0')\n",
            "tensor([0, 1, 6, 7, 8, 9], device='cuda:0')\n",
            "tensor([0, 1, 6, 7, 8, 9], device='cuda:0')\n",
            "tensor([0, 1, 6, 7, 8, 9], device='cuda:0')\n",
            "tensor([0, 1, 3, 6, 7, 8, 9], device='cuda:0')\n",
            "tensor([0, 1, 6, 7, 8, 9], device='cuda:0')\n",
            "tensor([1, 6, 7, 8, 9], device='cuda:0')\n",
            "tensor([0, 1, 6, 7, 8, 9], device='cuda:0')\n",
            "Validation Accuracy: 15.3\n",
            "\n"
          ]
        }
      ],
      "source": [
        "val(test_dataloader_task1, model_task2)"
      ]
    }
  ],
  "metadata": {
    "accelerator": "GPU",
    "colab": {
      "gpuType": "T4",
      "provenance": []
    },
    "kernelspec": {
      "display_name": "Python 3",
      "name": "python3"
    },
    "language_info": {
      "name": "python"
    }
  },
  "nbformat": 4,
  "nbformat_minor": 0
}