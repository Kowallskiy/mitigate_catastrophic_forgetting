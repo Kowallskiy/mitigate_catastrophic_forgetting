{
  "nbformat": 4,
  "nbformat_minor": 0,
  "metadata": {
    "colab": {
      "provenance": []
    },
    "kernelspec": {
      "name": "python3",
      "display_name": "Python 3"
    },
    "language_info": {
      "name": "python"
    }
  },
  "cells": [
    {
      "cell_type": "code",
      "execution_count": 1,
      "metadata": {
        "id": "GzUzjT_SM22m"
      },
      "outputs": [],
      "source": [
        "import torch\n",
        "import torchvision\n",
        "from torch import nn\n",
        "from torch.utils.data import DataLoader\n",
        "from torchvision import datasets\n",
        "from torchvision.transforms import ToTensor, Normalize"
      ]
    },
    {
      "cell_type": "code",
      "source": [
        "class FashionMNISTtask1(datasets.FashionMNIST):\n",
        "  def __init__(self, root, train=True, transform=None, target_transform=None, download=False):\n",
        "    super(FashionMNISTtask1, self).__init__(root, train=train, transform=transform, target_transform=target_transform,download=download)\n",
        "    self.classes = self.classes[:6]\n",
        "\n",
        "  def __getitem__(self, index):\n",
        "    img, target = super(FashionMNISTtask1, self).__getitem__(index)\n",
        "    if target < 6:\n",
        "        return img, target\n",
        "    else:\n",
        "        return img, -1\n"
      ],
      "metadata": {
        "id": "iowt64kIx-pn"
      },
      "execution_count": 2,
      "outputs": []
    },
    {
      "cell_type": "code",
      "source": [
        "class FashionMNISTtask2(datasets.FashionMNIST):\n",
        "    def __init__(self, root, train=True, transform=None, target_transform=None, download=False):\n",
        "        super(FashionMNISTtask2, self).__init__(root, train=train, transform=transform, target_transform=target_transform,download=download)\n",
        "        self.classes = self.classes[6:]\n",
        "\n",
        "    def __getitem__(self, index):\n",
        "        img, target = super(FashionMNISTtask2, self).__getitem__(index)\n",
        "        if target >= 6:\n",
        "            return img, target\n",
        "        else:\n",
        "            return img, -1"
      ],
      "metadata": {
        "id": "X1tlnFkE3jO1"
      },
      "execution_count": 3,
      "outputs": []
    },
    {
      "cell_type": "code",
      "source": [
        "transform = torchvision.transforms.Compose([ToTensor(), Normalize((0.5), (0.5))])\n",
        "\n",
        "train_dataset_task1 = FashionMNISTtask1(root='./data1', train=True, transform=transform, download=True)\n",
        "test_dataset_task1 = FashionMNISTtask1(root='./data1', train=False, transform=transform, download=True)"
      ],
      "metadata": {
        "id": "Es33ycfn0wgr",
        "colab": {
          "base_uri": "https://localhost:8080/"
        },
        "outputId": "cf2f16ed-6cc0-494f-b61e-b2785cf31e18"
      },
      "execution_count": 4,
      "outputs": [
        {
          "output_type": "stream",
          "name": "stdout",
          "text": [
            "Downloading http://fashion-mnist.s3-website.eu-central-1.amazonaws.com/train-images-idx3-ubyte.gz\n",
            "Downloading http://fashion-mnist.s3-website.eu-central-1.amazonaws.com/train-images-idx3-ubyte.gz to ./data1/FashionMNISTtask1/raw/train-images-idx3-ubyte.gz\n"
          ]
        },
        {
          "output_type": "stream",
          "name": "stderr",
          "text": [
            "100%|██████████| 26421880/26421880 [00:03<00:00, 7051358.33it/s]\n"
          ]
        },
        {
          "output_type": "stream",
          "name": "stdout",
          "text": [
            "Extracting ./data1/FashionMNISTtask1/raw/train-images-idx3-ubyte.gz to ./data1/FashionMNISTtask1/raw\n",
            "\n",
            "Downloading http://fashion-mnist.s3-website.eu-central-1.amazonaws.com/train-labels-idx1-ubyte.gz\n",
            "Downloading http://fashion-mnist.s3-website.eu-central-1.amazonaws.com/train-labels-idx1-ubyte.gz to ./data1/FashionMNISTtask1/raw/train-labels-idx1-ubyte.gz\n"
          ]
        },
        {
          "output_type": "stream",
          "name": "stderr",
          "text": [
            "100%|██████████| 29515/29515 [00:00<00:00, 305205.18it/s]\n"
          ]
        },
        {
          "output_type": "stream",
          "name": "stdout",
          "text": [
            "Extracting ./data1/FashionMNISTtask1/raw/train-labels-idx1-ubyte.gz to ./data1/FashionMNISTtask1/raw\n",
            "\n",
            "Downloading http://fashion-mnist.s3-website.eu-central-1.amazonaws.com/t10k-images-idx3-ubyte.gz\n",
            "Downloading http://fashion-mnist.s3-website.eu-central-1.amazonaws.com/t10k-images-idx3-ubyte.gz to ./data1/FashionMNISTtask1/raw/t10k-images-idx3-ubyte.gz\n"
          ]
        },
        {
          "output_type": "stream",
          "name": "stderr",
          "text": [
            "100%|██████████| 4422102/4422102 [00:00<00:00, 5478483.10it/s]\n"
          ]
        },
        {
          "output_type": "stream",
          "name": "stdout",
          "text": [
            "Extracting ./data1/FashionMNISTtask1/raw/t10k-images-idx3-ubyte.gz to ./data1/FashionMNISTtask1/raw\n",
            "\n",
            "Downloading http://fashion-mnist.s3-website.eu-central-1.amazonaws.com/t10k-labels-idx1-ubyte.gz\n",
            "Downloading http://fashion-mnist.s3-website.eu-central-1.amazonaws.com/t10k-labels-idx1-ubyte.gz to ./data1/FashionMNISTtask1/raw/t10k-labels-idx1-ubyte.gz\n"
          ]
        },
        {
          "output_type": "stream",
          "name": "stderr",
          "text": [
            "100%|██████████| 5148/5148 [00:00<00:00, 17626348.56it/s]"
          ]
        },
        {
          "output_type": "stream",
          "name": "stdout",
          "text": [
            "Extracting ./data1/FashionMNISTtask1/raw/t10k-labels-idx1-ubyte.gz to ./data1/FashionMNISTtask1/raw\n",
            "\n"
          ]
        },
        {
          "output_type": "stream",
          "name": "stderr",
          "text": [
            "\n"
          ]
        }
      ]
    },
    {
      "cell_type": "code",
      "source": [
        "train_dataset_task2 = FashionMNISTtask2(root='./data2', train=True, transform=transform, download=True)\n",
        "test_dataset_task2 = FashionMNISTtask2(root='./data2', train=False, transform=transform, download=True)"
      ],
      "metadata": {
        "id": "ItSNRkOm4vBs",
        "colab": {
          "base_uri": "https://localhost:8080/"
        },
        "outputId": "d57343de-dc64-44c6-f7a0-fe9b623ffdaf"
      },
      "execution_count": 5,
      "outputs": [
        {
          "output_type": "stream",
          "name": "stdout",
          "text": [
            "Downloading http://fashion-mnist.s3-website.eu-central-1.amazonaws.com/train-images-idx3-ubyte.gz\n",
            "Downloading http://fashion-mnist.s3-website.eu-central-1.amazonaws.com/train-images-idx3-ubyte.gz to ./data2/FashionMNISTtask2/raw/train-images-idx3-ubyte.gz\n"
          ]
        },
        {
          "output_type": "stream",
          "name": "stderr",
          "text": [
            "100%|██████████| 26421880/26421880 [00:01<00:00, 16439850.96it/s]\n"
          ]
        },
        {
          "output_type": "stream",
          "name": "stdout",
          "text": [
            "Extracting ./data2/FashionMNISTtask2/raw/train-images-idx3-ubyte.gz to ./data2/FashionMNISTtask2/raw\n",
            "\n",
            "Downloading http://fashion-mnist.s3-website.eu-central-1.amazonaws.com/train-labels-idx1-ubyte.gz\n",
            "Downloading http://fashion-mnist.s3-website.eu-central-1.amazonaws.com/train-labels-idx1-ubyte.gz to ./data2/FashionMNISTtask2/raw/train-labels-idx1-ubyte.gz\n"
          ]
        },
        {
          "output_type": "stream",
          "name": "stderr",
          "text": [
            "100%|██████████| 29515/29515 [00:00<00:00, 302069.14it/s]\n"
          ]
        },
        {
          "output_type": "stream",
          "name": "stdout",
          "text": [
            "Extracting ./data2/FashionMNISTtask2/raw/train-labels-idx1-ubyte.gz to ./data2/FashionMNISTtask2/raw\n",
            "\n",
            "Downloading http://fashion-mnist.s3-website.eu-central-1.amazonaws.com/t10k-images-idx3-ubyte.gz\n",
            "Downloading http://fashion-mnist.s3-website.eu-central-1.amazonaws.com/t10k-images-idx3-ubyte.gz to ./data2/FashionMNISTtask2/raw/t10k-images-idx3-ubyte.gz\n"
          ]
        },
        {
          "output_type": "stream",
          "name": "stderr",
          "text": [
            "100%|██████████| 4422102/4422102 [00:00<00:00, 5544086.06it/s]\n"
          ]
        },
        {
          "output_type": "stream",
          "name": "stdout",
          "text": [
            "Extracting ./data2/FashionMNISTtask2/raw/t10k-images-idx3-ubyte.gz to ./data2/FashionMNISTtask2/raw\n",
            "\n",
            "Downloading http://fashion-mnist.s3-website.eu-central-1.amazonaws.com/t10k-labels-idx1-ubyte.gz\n",
            "Downloading http://fashion-mnist.s3-website.eu-central-1.amazonaws.com/t10k-labels-idx1-ubyte.gz to ./data2/FashionMNISTtask2/raw/t10k-labels-idx1-ubyte.gz\n"
          ]
        },
        {
          "output_type": "stream",
          "name": "stderr",
          "text": [
            "100%|██████████| 5148/5148 [00:00<00:00, 5007485.39it/s]"
          ]
        },
        {
          "output_type": "stream",
          "name": "stdout",
          "text": [
            "Extracting ./data2/FashionMNISTtask2/raw/t10k-labels-idx1-ubyte.gz to ./data2/FashionMNISTtask2/raw\n",
            "\n"
          ]
        },
        {
          "output_type": "stream",
          "name": "stderr",
          "text": [
            "\n"
          ]
        }
      ]
    },
    {
      "cell_type": "code",
      "source": [
        "train_dataset_filtered_task1 = [data for data in train_dataset_task1 if data[1] != -1]\n",
        "test_dataset_filtered_task1 = [data for data in test_dataset_task1 if data[1] != -1]\n",
        "\n",
        "train_dataset_filtered_task2 = [data for data in train_dataset_task2 if data[1] != -1]\n",
        "test_dataset_filtered_task2 = [data for data in test_dataset_task2 if data[1] != -1]"
      ],
      "metadata": {
        "id": "PWyzJURmqBjQ"
      },
      "execution_count": 6,
      "outputs": []
    },
    {
      "cell_type": "code",
      "source": [
        "train_dataloader_task1 = DataLoader(train_dataset_filtered_task1, batch_size=64, shuffle=True)\n",
        "test_dataloader_task1 = DataLoader(test_dataset_filtered_task1, batch_size=256, shuffle=False)\n",
        "\n",
        "for X, y in train_dataloader_task1:\n",
        "  print(f\"Shape of X [N, C, H, W]: {X.shape}\")\n",
        "  print(f\"SHape of y: {y.shape}, dtype: {y.dtype}\")\n",
        "  break"
      ],
      "metadata": {
        "id": "fl2AkOV8POXp",
        "colab": {
          "base_uri": "https://localhost:8080/"
        },
        "outputId": "d015d91b-7e97-4aba-9ef9-dd23716c434f"
      },
      "execution_count": 7,
      "outputs": [
        {
          "output_type": "stream",
          "name": "stdout",
          "text": [
            "Shape of X [N, C, H, W]: torch.Size([64, 1, 28, 28])\n",
            "SHape of y: torch.Size([64]), dtype: torch.int64\n"
          ]
        }
      ]
    },
    {
      "cell_type": "code",
      "source": [
        "len(train_dataloader_task1)"
      ],
      "metadata": {
        "colab": {
          "base_uri": "https://localhost:8080/"
        },
        "id": "dOY9PckQp-O3",
        "outputId": "e7d06d9d-7d56-4230-a03f-b4cd7581381d"
      },
      "execution_count": 9,
      "outputs": [
        {
          "output_type": "execute_result",
          "data": {
            "text/plain": [
              "563"
            ]
          },
          "metadata": {},
          "execution_count": 9
        }
      ]
    },
    {
      "cell_type": "code",
      "source": [
        "train_dataloader_task2 = DataLoader(train_dataset_filtered_task2, batch_size=64, shuffle=True)\n",
        "test_dataloader_task2 = DataLoader(test_dataset_filtered_task2, batch_size=256, shuffle=False)"
      ],
      "metadata": {
        "id": "HKo3B_gW5ASM"
      },
      "execution_count": 10,
      "outputs": []
    },
    {
      "cell_type": "code",
      "source": [
        "device = ('cuda' if torch.cuda.is_available() else 'cpu')\n",
        "print(f\"Using {device} device\")"
      ],
      "metadata": {
        "id": "9iNzNEPfQAxR",
        "colab": {
          "base_uri": "https://localhost:8080/"
        },
        "outputId": "7747064f-31c7-4bec-ab1a-f99796452266"
      },
      "execution_count": 11,
      "outputs": [
        {
          "output_type": "stream",
          "name": "stdout",
          "text": [
            "Using cpu device\n"
          ]
        }
      ]
    },
    {
      "cell_type": "code",
      "source": [
        "def kaiming_normal_init(m):\n",
        "    if isinstance(m, nn.Conv2d):\n",
        "        nn.init.kaiming_normal_(m.weight, nonlinearity='relu')\n",
        "    elif isinstance(m, nn.Linear):\n",
        "        nn.init.kaiming_normal_(m.weight, nonlinearity='sigmoid')"
      ],
      "metadata": {
        "id": "ZDHmSu6iXa39"
      },
      "execution_count": 12,
      "outputs": []
    },
    {
      "cell_type": "code",
      "source": [
        "class NeuralNetwork(nn.Module):\n",
        "    def __init__(self, num_classes=10, hidden_size=512):\n",
        "        super(NeuralNetwork, self).__init__()\n",
        "        self.flatten = nn.Flatten()\n",
        "\n",
        "        self.fc1 = nn.Linear(28*28, hidden_size)\n",
        "        self.relu1 = nn.ReLU()\n",
        "        self.fc2 = nn.Linear(hidden_size, hidden_size)\n",
        "        self.relu2 = nn.ReLU()\n",
        "        self.classifier = nn.Linear(hidden_size, num_classes)\n",
        "\n",
        "        self._initialize_weights()\n",
        "\n",
        "    def _initialize_weights(self):\n",
        "        for m in self.modules():\n",
        "            if isinstance(m, nn.Linear):\n",
        "                nn.init.kaiming_normal_(m.weight, nonlinearity='sigmoid')\n",
        "            elif isinstance(m, nn.Conv2d):\n",
        "                nn.init.kaiming_normal_(m.weight, nonlinearity='relu')\n",
        "\n",
        "    def forward(self, x):\n",
        "        x = self.flatten(x)\n",
        "        x = self.fc1(x)\n",
        "        x = self.relu1(x)\n",
        "        x = self.fc2(x)\n",
        "        x = self.relu2(x)\n",
        "        logits = self.classifier(x)\n",
        "\n",
        "        return logits"
      ],
      "metadata": {
        "id": "aRMrQdtuQKpQ"
      },
      "execution_count": 13,
      "outputs": []
    },
    {
      "cell_type": "code",
      "source": [
        "class CNN(nn.Module):\n",
        "    def __init__(self, num_classes=10, hidden_size=512):\n",
        "        super(CNN, self).__init__()\n",
        "\n",
        "        self.conv1 = nn.Conv2d(in_channels=1, out_channels=16, kernel_size=3, stride=1, padding=1)\n",
        "        self.relu1 = nn.ReLU()\n",
        "        self.conv2 = nn.Conv2d(16, 32, 3, 1, 1)\n",
        "        self.relu2 = nn.ReLU()\n",
        "        self.pool = nn.MaxPool2d(2, 2)\n",
        "        self.flatten = nn.Flatten()\n",
        "        self.fc1 = nn.Linear(32*14*14, hidden_size)\n",
        "        self.relu3 = nn.ReLU()\n",
        "        self.classifier = nn.Linear(hidden_size, num_classes)\n",
        "\n",
        "        self._initialize_weights()\n",
        "\n",
        "    def _initialize_weights(self):\n",
        "        for m in self.modules():\n",
        "            if isinstance(m, nn.Conv2d):\n",
        "                nn.init.kaiming_normal_(m.weight, nonlinearity='relu')\n",
        "            elif isinstance(m, nn.Linear):\n",
        "                nn.init.kaiming_normal_(m.weight, nonlinearity='sigmoid')\n",
        "\n",
        "    def forward(self, x):\n",
        "        x = self.conv1(x)\n",
        "        x = self.relu1(x)\n",
        "        x = self.conv2(x)\n",
        "        x = self.relu2(x)\n",
        "        x = self.pool(x)\n",
        "        x = self.flatten(x)\n",
        "        x = self.fc1(x)\n",
        "        x = self.relu3(x)\n",
        "        logits = self.classifier(x)\n",
        "\n",
        "        return logits\n"
      ],
      "metadata": {
        "id": "kpdF76WoblBF"
      },
      "execution_count": 14,
      "outputs": []
    },
    {
      "cell_type": "code",
      "source": [
        "def train(dataloader, model, loss_fn, optimizer):\n",
        "  size = len(dataloader.dataset)\n",
        "  model.train()\n",
        "  for batch, (X, y) in enumerate(dataloader):\n",
        "    X, y = X.to(device), y.to(device)\n",
        "    pred = model(X)\n",
        "    loss = loss_fn(pred, y)\n",
        "\n",
        "    loss.backward()\n",
        "    optimizer.step()\n",
        "    optimizer.zero_grad()\n",
        "\n",
        "    if batch % 100 == 0:\n",
        "      loss, current = loss.item(), (batch+1) * len(X)\n",
        "      print(f\"Loss: {loss:>7f}, {current:>5d}/{size:>5d}\")"
      ],
      "metadata": {
        "id": "LTFmmsEBSxEX"
      },
      "execution_count": 15,
      "outputs": []
    },
    {
      "cell_type": "code",
      "source": [
        "def test(dataloader, model, loss_fn):\n",
        "  size = len(dataloader.dataset)\n",
        "  num_batches = len(dataloader)\n",
        "  model.eval()\n",
        "\n",
        "  test_loss, correct = 0, 0\n",
        "  with torch.no_grad():\n",
        "    for X, y in dataloader:\n",
        "      X, y = X.to(device), y.to(device)\n",
        "      pred = model(X)\n",
        "      test_loss += loss_fn(pred, y).item()\n",
        "      correct += (pred.argmax(1) == y).type(torch.float).sum().item()\n",
        "  test_loss /= num_batches\n",
        "  correct /= size\n",
        "  print(f\"Test Error: \\n Accuracy: {(100*correct):>0.1f}, Avg Loss: {test_loss:>8f}\\n\")\n"
      ],
      "metadata": {
        "id": "iBVle2_DUqna"
      },
      "execution_count": 16,
      "outputs": []
    },
    {
      "cell_type": "code",
      "source": [
        "model_task1 = CNN(num_classes=6, hidden_size=512).to(device)\n",
        "\n",
        "loss_fn = nn.CrossEntropyLoss()\n",
        "optimizer = torch.optim.SGD(model_task1.parameters(), lr=0.01, momentum=0.9, weight_decay=5e-4)"
      ],
      "metadata": {
        "id": "iVQn8kUQvKCW"
      },
      "execution_count": 17,
      "outputs": []
    },
    {
      "cell_type": "code",
      "source": [
        "model_task1.classifier.out_features"
      ],
      "metadata": {
        "colab": {
          "base_uri": "https://localhost:8080/"
        },
        "id": "VcvQ9lA6qv4c",
        "outputId": "b2beeb92-d9aa-4301-8719-8e00da6a13b8"
      },
      "execution_count": 18,
      "outputs": [
        {
          "output_type": "execute_result",
          "data": {
            "text/plain": [
              "6"
            ]
          },
          "metadata": {},
          "execution_count": 18
        }
      ]
    },
    {
      "cell_type": "code",
      "source": [
        "epochs = 5\n",
        "for t in range(epochs):\n",
        "  print(f\"Epoch {t+1}\\n---------------------------\")\n",
        "  train(train_dataloader_task1, model_task1, loss_fn, optimizer)\n",
        "  test(test_dataloader_task1, model_task1, loss_fn)\n",
        "print(\"Done!\")\n",
        "\n",
        "torch.save(model_task1.state_dict(), \"model_old.pth\")"
      ],
      "metadata": {
        "id": "os4-XrPyXB3Z",
        "colab": {
          "base_uri": "https://localhost:8080/"
        },
        "outputId": "235c484c-3775-4e60-b05d-f142fcc4e0d2"
      },
      "execution_count": 19,
      "outputs": [
        {
          "output_type": "stream",
          "name": "stdout",
          "text": [
            "Epoch 1\n",
            "---------------------------\n",
            "Loss: 1.898291,    64/36000\n",
            "Loss: 0.276725,  6464/36000\n",
            "Loss: 0.217151, 12864/36000\n",
            "Loss: 0.194844, 19264/36000\n",
            "Loss: 0.277112, 25664/36000\n",
            "Loss: 0.085803, 32064/36000\n",
            "Test Error: \n",
            " Accuracy: 92.3, Avg Loss: 0.211253\n",
            "\n",
            "Epoch 2\n",
            "---------------------------\n",
            "Loss: 0.115818,    64/36000\n",
            "Loss: 0.222595,  6464/36000\n",
            "Loss: 0.104931, 12864/36000\n",
            "Loss: 0.178367, 19264/36000\n",
            "Loss: 0.129727, 25664/36000\n",
            "Loss: 0.049222, 32064/36000\n",
            "Test Error: \n",
            " Accuracy: 93.7, Avg Loss: 0.175326\n",
            "\n",
            "Epoch 3\n",
            "---------------------------\n",
            "Loss: 0.067484,    64/36000\n",
            "Loss: 0.249414,  6464/36000\n",
            "Loss: 0.071581, 12864/36000\n",
            "Loss: 0.159191, 19264/36000\n",
            "Loss: 0.160739, 25664/36000\n",
            "Loss: 0.180911, 32064/36000\n",
            "Test Error: \n",
            " Accuracy: 93.7, Avg Loss: 0.169220\n",
            "\n",
            "Epoch 4\n",
            "---------------------------\n",
            "Loss: 0.052266,    64/36000\n",
            "Loss: 0.080109,  6464/36000\n",
            "Loss: 0.140392, 12864/36000\n",
            "Loss: 0.038281, 19264/36000\n",
            "Loss: 0.052388, 25664/36000\n",
            "Loss: 0.089193, 32064/36000\n",
            "Test Error: \n",
            " Accuracy: 94.4, Avg Loss: 0.156580\n",
            "\n",
            "Epoch 5\n",
            "---------------------------\n",
            "Loss: 0.042866,    64/36000\n",
            "Loss: 0.062526,  6464/36000\n",
            "Loss: 0.076494, 12864/36000\n",
            "Loss: 0.090855, 19264/36000\n",
            "Loss: 0.054021, 25664/36000\n",
            "Loss: 0.049753, 32064/36000\n",
            "Test Error: \n",
            " Accuracy: 95.0, Avg Loss: 0.143094\n",
            "\n",
            "Epoch 6\n",
            "---------------------------\n",
            "Loss: 0.086496,    64/36000\n",
            "Loss: 0.051710,  6464/36000\n",
            "Loss: 0.030978, 12864/36000\n",
            "Loss: 0.029936, 19264/36000\n",
            "Loss: 0.056745, 25664/36000\n",
            "Loss: 0.094436, 32064/36000\n",
            "Test Error: \n",
            " Accuracy: 94.9, Avg Loss: 0.149665\n",
            "\n",
            "Epoch 7\n",
            "---------------------------\n",
            "Loss: 0.018302,    64/36000\n",
            "Loss: 0.072173,  6464/36000\n",
            "Loss: 0.088575, 12864/36000\n",
            "Loss: 0.059395, 19264/36000\n",
            "Loss: 0.098665, 25664/36000\n",
            "Loss: 0.030457, 32064/36000\n",
            "Test Error: \n",
            " Accuracy: 94.5, Avg Loss: 0.166433\n",
            "\n",
            "Epoch 8\n",
            "---------------------------\n",
            "Loss: 0.060594,    64/36000\n",
            "Loss: 0.031301,  6464/36000\n",
            "Loss: 0.085033, 12864/36000\n",
            "Loss: 0.029428, 19264/36000\n",
            "Loss: 0.086336, 25664/36000\n",
            "Loss: 0.032915, 32064/36000\n",
            "Test Error: \n",
            " Accuracy: 95.1, Avg Loss: 0.152585\n",
            "\n",
            "Epoch 9\n",
            "---------------------------\n",
            "Loss: 0.021182,    64/36000\n",
            "Loss: 0.025651,  6464/36000\n",
            "Loss: 0.035420, 12864/36000\n",
            "Loss: 0.074149, 19264/36000\n",
            "Loss: 0.218098, 25664/36000\n",
            "Loss: 0.063989, 32064/36000\n",
            "Test Error: \n",
            " Accuracy: 95.1, Avg Loss: 0.149812\n",
            "\n",
            "Epoch 10\n",
            "---------------------------\n",
            "Loss: 0.021804,    64/36000\n",
            "Loss: 0.019127,  6464/36000\n",
            "Loss: 0.060506, 12864/36000\n",
            "Loss: 0.110989, 19264/36000\n",
            "Loss: 0.019845, 25664/36000\n",
            "Loss: 0.116941, 32064/36000\n",
            "Test Error: \n",
            " Accuracy: 95.1, Avg Loss: 0.163558\n",
            "\n",
            "Done!\n"
          ]
        }
      ]
    },
    {
      "cell_type": "markdown",
      "source": [
        "# LWF"
      ],
      "metadata": {
        "id": "1xnHT4FuNGVo"
      }
    },
    {
      "cell_type": "code",
      "source": [
        "model_task2 = CNN(num_classes=6, hidden_size=512).to(device)\n",
        "model_task1 = CNN(num_classes=6, hidden_size=512).to(device)\n",
        "\n",
        "model_task2.load_state_dict(torch.load(\"model_old.pth\"))\n",
        "model_task1.load_state_dict(torch.load(\"model_old.pth\"))\n",
        "\n",
        "in_features = model_task1.classifier.in_features\n",
        "out_features = model_task1.classifier.out_features\n",
        "\n",
        "weight = model_task1.classifier.weight.data\n",
        "bias = model_task1.classifier.bias.data\n",
        "\n",
        "new_out_features = 10\n",
        "\n",
        "new_fc = nn.Linear(in_features, new_out_features)\n",
        "kaiming_normal_init(new_fc.weight)\n",
        "\n",
        "new_fc.weight.data[:out_features] = weight\n",
        "new_fc.bias.data[:out_features] = bias\n",
        "\n",
        "model_task2.classifier = new_fc\n",
        "model_task2 = model_task2.to(device)\n",
        "print(\"New head numbers: \", model_task2.classifier.out_features)\n",
        "\n",
        "for param in model_task1.parameters():\n",
        "  param.requires_grad = False"
      ],
      "metadata": {
        "id": "ZCbEgdnwNBSC",
        "colab": {
          "base_uri": "https://localhost:8080/"
        },
        "outputId": "a2560392-2865-4ae4-e045-4e68f0b83450"
      },
      "execution_count": 20,
      "outputs": [
        {
          "output_type": "stream",
          "name": "stdout",
          "text": [
            "New head numbers:  10\n"
          ]
        }
      ]
    },
    {
      "cell_type": "markdown",
      "source": [
        "Changes in training and testing"
      ],
      "metadata": {
        "id": "GsAe0iSPTSiq"
      }
    },
    {
      "cell_type": "code",
      "source": [
        "def train(alpha, T):\n",
        "  size = len(train_dataloader_task2.dataset)\n",
        "  # We set net_new to evaluation mode to prevent it from being updated\n",
        "  # while computing the distillation loss from the old model\n",
        "  model_task2.train()\n",
        "  for batch, (X, y) in enumerate(train_dataloader_task2):\n",
        "    X, y = X.to(device), y.to(device)\n",
        "\n",
        "    outputs = model_task2(X)\n",
        "    soft_y = model_task1(X)\n",
        "\n",
        "    loss1 = loss_fn(outputs, y)\n",
        "\n",
        "    outputs_S = nn.functional.softmax(outputs[:, :out_features] / T, dim=1)\n",
        "    outputs_T = nn.functional.softmax(soft_y[:, :out_features] / T, dim=1)\n",
        "\n",
        "    loss2 = outputs_T.mul(-1 * torch.log(outputs_S))\n",
        "    loss2 = loss2.sum(1)\n",
        "    loss2 = loss2.mean() * T * T\n",
        "\n",
        "    loss = loss1 + alpha * loss2\n",
        "\n",
        "    loss.backward(retain_graph=True)\n",
        "    optimizer.step()\n",
        "    optimizer.zero_grad()\n",
        "\n",
        "    if batch % 100 == 0:\n",
        "      loss, current = loss.item(), (batch+1) * len(X)\n",
        "      print(f\"Loss: {loss:>7f}, {current:>5d}/{size:>5d}\")\n"
      ],
      "metadata": {
        "id": "Tqex4EciTVVN"
      },
      "execution_count": 21,
      "outputs": []
    },
    {
      "cell_type": "code",
      "source": [
        "def test(alpha, T):\n",
        "  size = len(test_dataloader_task2.dataset)\n",
        "  num_batches = len(test_dataloader_task2)\n",
        "  model_task2.eval()\n",
        "\n",
        "  test_loss, correct = 0, 0\n",
        "  with torch.no_grad():\n",
        "    for X, y in test_dataloader_task2:\n",
        "      X, y = X.to(device), y.to(device)\n",
        "\n",
        "      outputs = model_task2(X)\n",
        "      soft_y = model_task1(X)\n",
        "\n",
        "      loss1 = loss_fn(outputs, y)\n",
        "\n",
        "      outputs_S = nn.functional.softmax(outputs[:, :out_features] / T, dim=1)\n",
        "      outputs_T = nn.functional.softmax(soft_y[:, :out_features] / T, dim=1)\n",
        "\n",
        "      loss2 = outputs_T.mul(-1 * torch.log(outputs_S))\n",
        "      loss2 = loss2.sum(1)\n",
        "      loss2 = loss2.mean() * T * T\n",
        "\n",
        "      loss = loss1 * alpha + loss2 * (1 - alpha)\n",
        "\n",
        "      test_loss += loss.item()\n",
        "      _, predicted = outputs.max(1)\n",
        "      correct += predicted.eq(y).sum().item()\n",
        "      # correct += (pred.argmax(1) == y).type(torch.float).sum().item()\n",
        "  test_loss /= num_batches\n",
        "  correct /= size\n",
        "  print(f\"Test Error: \\n Accuracy: {(100*correct):>0.1f}, Avg Loss: {test_loss:>8f}\")\n"
      ],
      "metadata": {
        "id": "f31nqZx2WRdr"
      },
      "execution_count": 22,
      "outputs": []
    },
    {
      "cell_type": "code",
      "source": [
        "def val(epoch):\n",
        "    model_task2.eval()\n",
        "    correct, total = 0, 0\n",
        "    with torch.no_grad():\n",
        "        for batch, (X, y) in enumerate(test_dataloader_task1):\n",
        "            X, y = X.to(device), y.to(device)\n",
        "            outputs = model_task2(X)\n",
        "            _, predicted_old = outputs.max(1)\n",
        "            total += len(y)\n",
        "            correct += predicted_old.eq(y).sum().item()\n",
        "        print(f\"Validation Acc: {100. * correct / total}\\n\")"
      ],
      "metadata": {
        "id": "DbtfMR9VJW0Z"
      },
      "execution_count": 23,
      "outputs": []
    },
    {
      "cell_type": "code",
      "source": [
        "T = 2\n",
        "alpha = 0.5\n",
        "loss_fn = nn.CrossEntropyLoss()\n",
        "\n",
        "optimizer = torch.optim.SGD(filter(lambda p: p.requires_grad, model_task2.parameters()), lr=0.001, momentum=0.9, weight_decay=5e-4)\n",
        "\n",
        "# warmup_epochs = 5\n",
        "# initial_lr = 0.0001\n",
        "# final_lr = 0.01\n",
        "\n",
        "# warmup_scheduler = torch.optim.lr_scheduler.LambdaLR(\n",
        "#     optimizer,\n",
        "#     lr_lambda= lambda epoch: (epoch+1)/warmup_epochs if epoch < warmup_epochs else final_lr/initial_lr\n",
        "# )\n",
        "\n",
        "for epoch in range(5):\n",
        "    print(f\"Epoch {epoch+1}: ----------------------\")\n",
        "    train(alpha, T)\n",
        "    test(alpha, T)\n",
        "    val(epoch)"
      ],
      "metadata": {
        "id": "tJwIbbRBXj-C",
        "colab": {
          "base_uri": "https://localhost:8080/"
        },
        "outputId": "25005777-4d85-4b62-e446-16ae25b1b1dc"
      },
      "execution_count": 24,
      "outputs": [
        {
          "output_type": "stream",
          "name": "stdout",
          "text": [
            "Epoch 1: ----------------------\n",
            "Loss: 9.306654,    64/24000\n",
            "Loss: 1.464222,  6464/24000\n",
            "Loss: 1.442121, 12864/24000\n",
            "Loss: 1.512976, 19264/24000\n",
            "Test Error: \n",
            " Accuracy: 96.2, Avg Loss: 1.176230\n",
            "Validation Acc: 14.6\n",
            "\n",
            "Epoch 2: ----------------------\n",
            "Loss: 1.303878,    64/24000\n",
            "Loss: 1.424517,  6464/24000\n",
            "Loss: 1.333093, 12864/24000\n",
            "Loss: 1.102066, 19264/24000\n",
            "Test Error: \n",
            " Accuracy: 97.0, Avg Loss: 1.160700\n",
            "Validation Acc: 13.616666666666667\n",
            "\n",
            "Epoch 3: ----------------------\n",
            "Loss: 1.244305,    64/24000\n",
            "Loss: 0.891064,  6464/24000\n",
            "Loss: 1.163645, 12864/24000\n",
            "Loss: 1.110944, 19264/24000\n",
            "Test Error: \n",
            " Accuracy: 97.2, Avg Loss: 1.154813\n",
            "Validation Acc: 13.483333333333333\n",
            "\n",
            "Epoch 4: ----------------------\n",
            "Loss: 1.109710,    64/24000\n",
            "Loss: 1.190669,  6464/24000\n",
            "Loss: 1.268371, 12864/24000\n",
            "Loss: 1.263525, 19264/24000\n",
            "Test Error: \n",
            " Accuracy: 97.4, Avg Loss: 1.151523\n",
            "Validation Acc: 13.633333333333333\n",
            "\n",
            "Epoch 5: ----------------------\n",
            "Loss: 1.015058,    64/24000\n",
            "Loss: 1.222240,  6464/24000\n",
            "Loss: 1.165204, 12864/24000\n",
            "Loss: 1.110006, 19264/24000\n",
            "Test Error: \n",
            " Accuracy: 97.6, Avg Loss: 1.148399\n",
            "Validation Acc: 13.433333333333334\n",
            "\n"
          ]
        }
      ]
    }
  ]
}