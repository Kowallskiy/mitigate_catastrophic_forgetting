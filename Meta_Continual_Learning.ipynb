{
  "nbformat": 4,
  "nbformat_minor": 0,
  "metadata": {
    "colab": {
      "provenance": [],
      "gpuType": "T4"
    },
    "kernelspec": {
      "name": "python3",
      "display_name": "Python 3"
    },
    "language_info": {
      "name": "python"
    },
    "accelerator": "GPU"
  },
  "cells": [
    {
      "cell_type": "code",
      "execution_count": 1,
      "metadata": {
        "id": "NhyC2YgHvKV5"
      },
      "outputs": [],
      "source": [
        "import torch\n",
        "import torchvision\n",
        "from torch import nn\n",
        "from torch.utils.data import DataLoader\n",
        "from torchvision import datasets\n",
        "from torchvision.transforms import ToTensor, Normalize"
      ]
    },
    {
      "cell_type": "code",
      "source": [
        "class FashionMNISTtask1(datasets.FashionMNIST):\n",
        "  def __init__(self, root, train=True, transform=None, target_transform=None, download=False):\n",
        "    super(FashionMNISTtask1, self).__init__(root, train=train, transform=transform, target_transform=target_transform,download=download)\n",
        "    self.classes = self.classes[:6]\n",
        "\n",
        "  def __getitem__(self, index):\n",
        "    img, target = super(FashionMNISTtask1, self).__getitem__(index)\n",
        "    if target < 6:\n",
        "        return img, target\n",
        "    else:\n",
        "        return img, -1"
      ],
      "metadata": {
        "id": "LexkxyZswrMa"
      },
      "execution_count": 2,
      "outputs": []
    },
    {
      "cell_type": "code",
      "source": [
        "class FashionMNISTtask2(datasets.FashionMNIST):\n",
        "    def __init__(self, root, train=True, transform=None, target_transform=None, download=False):\n",
        "        super(FashionMNISTtask2, self).__init__(root, train=train, transform=transform, target_transform=target_transform,download=download)\n",
        "        self.classes = self.classes[6:]\n",
        "\n",
        "    def __getitem__(self, index):\n",
        "        img, target = super(FashionMNISTtask2, self).__getitem__(index)\n",
        "        if target >= 6:\n",
        "            return img, target\n",
        "        else:\n",
        "            return img, -1"
      ],
      "metadata": {
        "id": "WeIDGy_iw_yf"
      },
      "execution_count": 3,
      "outputs": []
    },
    {
      "cell_type": "code",
      "source": [
        "transform = torchvision.transforms.Compose([ToTensor(), Normalize((0.5), (0.5))])\n",
        "\n",
        "train_dataset_1 = FashionMNISTtask1(root='./data1', train=True, transform=transform, download=True)\n",
        "test_dataset_1 = FashionMNISTtask1(root='./data1', train=False, transform=transform, download=True)"
      ],
      "metadata": {
        "id": "ReBY8mWmxB6e"
      },
      "execution_count": null,
      "outputs": []
    },
    {
      "cell_type": "code",
      "source": [
        "train_dataset_2 = FashionMNISTtask2(root='./data2', train=True, transform=transform, download=True)\n",
        "test_dataset_2 = FashionMNISTtask2(root='./data2', train=False, transform=transform, download=True)\n",
        "test_dataset_3 = datasets.FashionMNIST(\n",
        "    root='data3',\n",
        "    train=False,\n",
        "    download=True,\n",
        "    transform=transform\n",
        ")"
      ],
      "metadata": {
        "id": "nxnrerz9xEse"
      },
      "execution_count": null,
      "outputs": []
    },
    {
      "cell_type": "code",
      "source": [
        "train_dataset_filtered_old = [data for data in train_dataset_1 if data[1] != -1]\n",
        "test_dataset_filtered_old = [data for data in test_dataset_1 if data[1] != -1]\n",
        "\n",
        "train_dataset_filtered_new = [data for data in train_dataset_2 if data[1] != -1]\n",
        "test_dataset_filtered_new = [data for data in test_dataset_2 if data[1] != -1]"
      ],
      "metadata": {
        "id": "5EwT4S_hxOvQ"
      },
      "execution_count": 6,
      "outputs": []
    },
    {
      "cell_type": "code",
      "source": [
        "train_dataloader_old = DataLoader(train_dataset_filtered_old, batch_size=64, shuffle=True)\n",
        "test_dataloader_old = DataLoader(test_dataset_filtered_old, batch_size=256, shuffle=False)\n",
        "\n",
        "for X, y in train_dataloader_old:\n",
        "  print(f\"Shape of X [N, C, H, W]: {X.shape}\")\n",
        "  print(f\"SHape of y: {y.shape}, dtype: {y.dtype}\")\n",
        "  break"
      ],
      "metadata": {
        "colab": {
          "base_uri": "https://localhost:8080/"
        },
        "id": "B1DbWSdaxPOw",
        "outputId": "32902b40-a364-498b-bc23-d661c03cf92a"
      },
      "execution_count": 7,
      "outputs": [
        {
          "output_type": "stream",
          "name": "stdout",
          "text": [
            "Shape of X [N, C, H, W]: torch.Size([64, 1, 28, 28])\n",
            "SHape of y: torch.Size([64]), dtype: torch.int64\n"
          ]
        }
      ]
    },
    {
      "cell_type": "code",
      "source": [
        "train_dataloader_new = DataLoader(train_dataset_filtered_new, batch_size=64, shuffle=True)\n",
        "test_dataloader_new = DataLoader(test_dataset_filtered_new, batch_size=256, shuffle=False)"
      ],
      "metadata": {
        "id": "pdhGwBerxVCW"
      },
      "execution_count": 8,
      "outputs": []
    },
    {
      "cell_type": "code",
      "source": [
        "eval_dataloader = DataLoader(test_dataset_3, batch_size=256, shuffle=True)"
      ],
      "metadata": {
        "id": "5ooWDnd8xVqd"
      },
      "execution_count": 9,
      "outputs": []
    },
    {
      "cell_type": "code",
      "source": [
        "device = ('cuda' if torch.cuda.is_available() else 'cpu')\n",
        "print(f\"Using {device} device.\")"
      ],
      "metadata": {
        "colab": {
          "base_uri": "https://localhost:8080/"
        },
        "id": "t5i42NUAxXeI",
        "outputId": "a18dff23-0d1e-4b93-c0c6-bc699b2d902d"
      },
      "execution_count": 10,
      "outputs": [
        {
          "output_type": "stream",
          "name": "stdout",
          "text": [
            "Using cuda device.\n"
          ]
        }
      ]
    },
    {
      "cell_type": "code",
      "source": [
        "class CNN(nn.Module):\n",
        "    def __init__(self, num_classes=10, hidden_size=512):\n",
        "        super(CNN, self).__init__()\n",
        "        self.conv1 = nn.Conv2d(in_channels=1, out_channels=16, kernel_size=3, stride=1, padding=1)\n",
        "        self.relu1 = nn.ReLU()\n",
        "        self.conv2 = nn.Conv2d(16, 32, 3, 1, 1)\n",
        "        self.relu2 = nn.ReLU()\n",
        "        self.pool = nn.MaxPool2d(2, 2)\n",
        "        self.flatten = nn.Flatten()\n",
        "        self.fc1 = nn.Linear(32*14*14, hidden_size)\n",
        "        self.relu3 = nn.ReLU()\n",
        "        self.classifier = nn.Linear(hidden_size, num_classes)\n",
        "\n",
        "        self._initialize_weights()\n",
        "\n",
        "    def _initialize_weights(self):\n",
        "        for m in self.modules():\n",
        "            if isinstance(m, nn.Linear):\n",
        "                nn.init.kaiming_normal_(m.weight, nonlinearity='relu')\n",
        "            elif isinstance(m, nn.Conv2d):\n",
        "                nn.init.kaiming_normal_(m.weight, nonlinearity='relu')\n",
        "\n",
        "    def forward(self, x):\n",
        "        x = self.relu1(self.conv1(x))\n",
        "        x = self.relu2(self.conv2(x))\n",
        "        x = self.pool(x)\n",
        "        x = self.flatten(x)\n",
        "        x = self.relu3(self.fc1(x))\n",
        "        logits = self.classifier(x)\n",
        "\n",
        "        return logits"
      ],
      "metadata": {
        "id": "_JWKdwjixh04"
      },
      "execution_count": 11,
      "outputs": []
    },
    {
      "cell_type": "code",
      "source": [
        "def train(model, dataloader, loss_fn, optimizer):\n",
        "    model.train()\n",
        "    size = len(dataloader.dataset)\n",
        "    for batch, (X, y) in enumerate(dataloader):\n",
        "        X, y = X.to(device), y.to(device)\n",
        "\n",
        "        pred = model(X)\n",
        "        loss = loss_fn(pred, y)\n",
        "        loss.backward()\n",
        "        optimizer.step()\n",
        "        optimizer.zero_grad()\n",
        "\n",
        "        if batch % 100 == 0:\n",
        "            loss, current = loss.item(), (batch+1) * len(X)\n",
        "            print(f\"Loss: {loss:>7f}, {current:>5d}/{size:>5d}\")\n"
      ],
      "metadata": {
        "id": "BvTDl8C4VzSj"
      },
      "execution_count": 12,
      "outputs": []
    },
    {
      "cell_type": "code",
      "source": [
        "def test(model, dataloader, loss_fn):\n",
        "    model.eval()\n",
        "    size = len(dataloader.dataset)\n",
        "    num_batches = len(dataloader)\n",
        "\n",
        "    test_loss, correct = 0, 0\n",
        "\n",
        "    with torch.no_grad():\n",
        "        for X, y in dataloader:\n",
        "            X, y = X.to(device), y.to(device)\n",
        "\n",
        "            pred = model(X)\n",
        "            test_loss += loss_fn(pred, y).item()\n",
        "\n",
        "            correct += (pred.argmax(1) == y).type(torch.float).sum().item()\n",
        "        test_loss /= num_batches\n",
        "        correct /= size\n",
        "        print(f\"Test loss:\\nAccuracy: {100*correct:>0.1f}, Avg Loss: {test_loss:>8f}\\n\")"
      ],
      "metadata": {
        "id": "ky1P86c3XB1J"
      },
      "execution_count": 13,
      "outputs": []
    },
    {
      "cell_type": "code",
      "source": [
        "def val(model, epoch):\n",
        "    model.eval()\n",
        "    correct, total = 0, 0\n",
        "    with torch.no_grad():\n",
        "        for batch, (X, y) in enumerate(eval_dataloader):\n",
        "            X, y = X.to(device), y.to(device)\n",
        "            outputs = model(X)\n",
        "            _, predicted_old = outputs.max(1)\n",
        "            total += len(y)\n",
        "            correct += predicted_old.eq(y).sum().item()\n",
        "        print(f\"Validation Acc: {100. * correct / total}\\n\")"
      ],
      "metadata": {
        "id": "AxcEmuti9402"
      },
      "execution_count": 14,
      "outputs": []
    },
    {
      "cell_type": "code",
      "source": [
        "# Task 1: Train the base model\n",
        "base_model = CNN()\n",
        "base_model = base_model.to(device)\n",
        "loss_fn = nn.CrossEntropyLoss()\n",
        "optimizer = torch.optim.Adam(base_model.parameters(), lr=0.001)\n",
        "\n",
        "num_epochs = 5\n",
        "\n",
        "for epoch in range(num_epochs):\n",
        "    print(f\"Task 1 - Epoch {epoch+1}:---------------------\")\n",
        "    train(base_model, train_dataloader_old, loss_fn, optimizer)\n",
        "    test(base_model, test_dataloader_old, loss_fn)\n",
        "\n",
        "print(\"Done!\")\n",
        "\n",
        "# Save the state of the trained base model\n",
        "torch.save(base_model.state_dict(), \"base_model_task1.pth\")\n",
        "\n",
        "# Task 2: Meta Continual Learning\n",
        "meta_model = CNN()\n",
        "meta_model = meta_model.to(device)\n",
        "meta_optimizer = torch.optim.Adam(meta_model.parameters(), lr=0.001)\n",
        "\n",
        "# Load weights from the trained base model (Task 1)\n",
        "meta_model.load_state_dict(torch.load(\"base_model_task1.pth\"))\n",
        "\n",
        "for epoch in range(num_epochs):\n",
        "    print(f\"Task 2 - Epoch {epoch+1}:---------------------\")\n",
        "    train(meta_model, train_dataloader_new, loss_fn, meta_optimizer)\n",
        "    test(meta_model, test_dataloader_new, loss_fn)\n",
        "    val(meta_model, epoch)"
      ],
      "metadata": {
        "colab": {
          "base_uri": "https://localhost:8080/"
        },
        "id": "rM2mrXHhBZXg",
        "outputId": "277bee5e-7d00-4f4c-afa6-4027d1a962d3"
      },
      "execution_count": 15,
      "outputs": [
        {
          "output_type": "stream",
          "name": "stdout",
          "text": [
            "Task 1 - Epoch 1:---------------------\n",
            "Loss: 2.554302,    64/36000\n",
            "Loss: 0.448380,  6464/36000\n",
            "Loss: 0.431891, 12864/36000\n",
            "Loss: 0.237091, 19264/36000\n",
            "Loss: 0.203146, 25664/36000\n",
            "Loss: 0.117528, 32064/36000\n",
            "Test loss:\n",
            "Accuracy: 93.3, Avg Loss: 0.185902\n",
            "\n",
            "Task 1 - Epoch 2:---------------------\n",
            "Loss: 0.127286,    64/36000\n",
            "Loss: 0.125016,  6464/36000\n",
            "Loss: 0.370917, 12864/36000\n",
            "Loss: 0.224994, 19264/36000\n",
            "Loss: 0.095824, 25664/36000\n",
            "Loss: 0.163408, 32064/36000\n",
            "Test loss:\n",
            "Accuracy: 92.9, Avg Loss: 0.189447\n",
            "\n",
            "Task 1 - Epoch 3:---------------------\n",
            "Loss: 0.128673,    64/36000\n",
            "Loss: 0.110751,  6464/36000\n",
            "Loss: 0.090187, 12864/36000\n",
            "Loss: 0.122689, 19264/36000\n",
            "Loss: 0.172416, 25664/36000\n",
            "Loss: 0.142051, 32064/36000\n",
            "Test loss:\n",
            "Accuracy: 93.7, Avg Loss: 0.181664\n",
            "\n",
            "Task 1 - Epoch 4:---------------------\n",
            "Loss: 0.157002,    64/36000\n",
            "Loss: 0.126877,  6464/36000\n",
            "Loss: 0.029186, 12864/36000\n",
            "Loss: 0.025264, 19264/36000\n",
            "Loss: 0.043099, 25664/36000\n",
            "Loss: 0.077168, 32064/36000\n",
            "Test loss:\n",
            "Accuracy: 94.2, Avg Loss: 0.176087\n",
            "\n",
            "Task 1 - Epoch 5:---------------------\n",
            "Loss: 0.046187,    64/36000\n",
            "Loss: 0.025848,  6464/36000\n",
            "Loss: 0.080357, 12864/36000\n",
            "Loss: 0.098217, 19264/36000\n",
            "Loss: 0.077633, 25664/36000\n",
            "Loss: 0.039545, 32064/36000\n",
            "Test loss:\n",
            "Accuracy: 94.4, Avg Loss: 0.174951\n",
            "\n",
            "Done!\n",
            "Task 2 - Epoch 1:---------------------\n",
            "Loss: 23.182116,    64/24000\n",
            "Loss: 0.076473,  6464/24000\n",
            "Loss: 0.075299, 12864/24000\n",
            "Loss: 0.041187, 19264/24000\n",
            "Test loss:\n",
            "Accuracy: 97.7, Avg Loss: 0.063278\n",
            "\n",
            "Validation Acc: 39.07\n",
            "\n",
            "Task 2 - Epoch 2:---------------------\n",
            "Loss: 0.009538,    64/24000\n",
            "Loss: 0.010994,  6464/24000\n",
            "Loss: 0.013201, 12864/24000\n",
            "Loss: 0.012118, 19264/24000\n",
            "Test loss:\n",
            "Accuracy: 98.1, Avg Loss: 0.053259\n",
            "\n",
            "Validation Acc: 39.23\n",
            "\n",
            "Task 2 - Epoch 3:---------------------\n",
            "Loss: 0.059895,    64/24000\n",
            "Loss: 0.018395,  6464/24000\n",
            "Loss: 0.004835, 12864/24000\n",
            "Loss: 0.001919, 19264/24000\n",
            "Test loss:\n",
            "Accuracy: 98.1, Avg Loss: 0.059001\n",
            "\n",
            "Validation Acc: 39.24\n",
            "\n",
            "Task 2 - Epoch 4:---------------------\n",
            "Loss: 0.013364,    64/24000\n",
            "Loss: 0.016454,  6464/24000\n",
            "Loss: 0.077325, 12864/24000\n",
            "Loss: 0.002301, 19264/24000\n",
            "Test loss:\n",
            "Accuracy: 98.0, Avg Loss: 0.061066\n",
            "\n",
            "Validation Acc: 39.22\n",
            "\n",
            "Task 2 - Epoch 5:---------------------\n",
            "Loss: 0.005615,    64/24000\n",
            "Loss: 0.000395,  6464/24000\n",
            "Loss: 0.000670, 12864/24000\n",
            "Loss: 0.013640, 19264/24000\n",
            "Test loss:\n",
            "Accuracy: 98.0, Avg Loss: 0.067622\n",
            "\n",
            "Validation Acc: 39.2\n",
            "\n"
          ]
        }
      ]
    }
  ]
}